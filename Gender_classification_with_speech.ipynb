{
 "cells": [
  {
   "cell_type": "markdown",
   "metadata": {},
   "source": [
    "# INTRODUCTION"
   ]
  },
  {
   "cell_type": "markdown",
   "metadata": {},
   "source": [
    "In this notebook, I present my attempt at speech-based gender classification using the LibriSpeech dev-clean corpus.\n",
    "\n",
    "The major contribution of the procedure applied in this notebook is the feature engineering which provides dimensionality reduction and qualitative modeling input. The speech classification is performed by the methodology below:\n",
    "\n",
    "**load data ===> Features Extraction, transformation and preparation ===> Modeling**.\n",
    "\n",
    "The features (engineering) extraction is based on a summarized version of the MFCC feature space. Specifically, I show that by obtaining just the 6 MFCC features and summarizing them into into their mean and standard deviation, and concatenating these faetures for each data, it is possible to train a simple classifier like k-Nearest Neighbor (KNN) and achieve 94% accuracy.\n",
    "\n",
    "In addition to KNN, other classifier models which I have applied here are Naive Bayes, Random Forest, feed forward neural network and 1D convolutional neural network. "
   ]
  },
  {
   "cell_type": "code",
   "execution_count": 168,
   "metadata": {},
   "outputs": [],
   "source": [
    "import pandas as pd\n",
    "import numpy as np\n",
    "import matplotlib.pyplot as plt\n",
    "import os"
   ]
  },
  {
   "cell_type": "markdown",
   "metadata": {},
   "source": [
    "# Load clean data"
   ]
  },
  {
   "cell_type": "code",
   "execution_count": 169,
   "metadata": {},
   "outputs": [],
   "source": [
    "SPEECH_DATA_PATH = 'LibriSpeech/'\n",
    "RANDOM_SEED = 42"
   ]
  },
  {
   "cell_type": "markdown",
   "metadata": {},
   "source": [
    "Load .txt file containing metadata each speaker ID and Gender/sex. This file is used to map the IDs to the gender/sex"
   ]
  },
  {
   "cell_type": "code",
   "execution_count": 175,
   "metadata": {},
   "outputs": [
    {
     "name": "stderr",
     "output_type": "stream",
     "text": [
      "b'Skipping line 45: expected 5 fields, saw 7\\n'\n"
     ]
    },
    {
     "data": {
      "text/plain": [
       "ID         string\n",
       "SEX        string\n",
       "SUBSET     string\n",
       "MINUTES    string\n",
       "NAME       string\n",
       "dtype: object"
      ]
     },
     "execution_count": 175,
     "metadata": {},
     "output_type": "execute_result"
    }
   ],
   "source": [
    "speakers = pd.read_csv(SPEECH_DATA_PATH + 'SPEAKERS.TXT', comment=';', sep ='|', \n",
    "                       header = None, error_bad_lines=False, dtype ='string')\n",
    "\n",
    "\n",
    "speakers.columns = ['ID', 'SEX', 'SUBSET', 'MINUTES', 'NAME'] #Defines column names\n",
    "\n",
    "\n",
    "\n",
    "speakers.SEX = speakers.SEX.str.strip()\n",
    "speakers.SUBSET = speakers.SUBSET.str.strip()\n",
    "\n",
    "\n",
    "speakers.dtypes"
   ]
  },
  {
   "cell_type": "markdown",
   "metadata": {},
   "source": [
    "###### Integer encoding for categorical data: Male = 0, Female = 1"
   ]
  },
  {
   "cell_type": "code",
   "execution_count": 176,
   "metadata": {},
   "outputs": [],
   "source": [
    "speakers['SEX'].replace('M', 0, inplace=True)\n",
    "speakers['SEX'].replace('F', 1, inplace=True)"
   ]
  },
  {
   "cell_type": "code",
   "execution_count": 177,
   "metadata": {},
   "outputs": [
    {
     "data": {
      "text/plain": [
       "ID           int32\n",
       "SEX          int32\n",
       "SUBSET      string\n",
       "MINUTES    float64\n",
       "NAME        string\n",
       "dtype: object"
      ]
     },
     "execution_count": 177,
     "metadata": {},
     "output_type": "execute_result"
    }
   ],
   "source": [
    "speakers = speakers.astype({'MINUTES': 'float64', 'ID': 'int32', 'SEX': 'int32'})\n",
    "#speakers[speakers.columns] = speakers.apply(lambda x: x.str.strip())\n",
    "speakers.dtypes"
   ]
  },
  {
   "cell_type": "code",
   "execution_count": 178,
   "metadata": {},
   "outputs": [
    {
     "data": {
      "text/html": [
       "<div>\n",
       "<style scoped>\n",
       "    .dataframe tbody tr th:only-of-type {\n",
       "        vertical-align: middle;\n",
       "    }\n",
       "\n",
       "    .dataframe tbody tr th {\n",
       "        vertical-align: top;\n",
       "    }\n",
       "\n",
       "    .dataframe thead th {\n",
       "        text-align: right;\n",
       "    }\n",
       "</style>\n",
       "<table border=\"1\" class=\"dataframe\">\n",
       "  <thead>\n",
       "    <tr style=\"text-align: right;\">\n",
       "      <th></th>\n",
       "      <th>ID</th>\n",
       "      <th>SEX</th>\n",
       "      <th>SUBSET</th>\n",
       "      <th>MINUTES</th>\n",
       "      <th>NAME</th>\n",
       "    </tr>\n",
       "  </thead>\n",
       "  <tbody>\n",
       "    <tr>\n",
       "      <th>0</th>\n",
       "      <td>14</td>\n",
       "      <td>1</td>\n",
       "      <td>train-clean-360</td>\n",
       "      <td>25.03</td>\n",
       "      <td>Kristin LeMoine</td>\n",
       "    </tr>\n",
       "    <tr>\n",
       "      <th>1</th>\n",
       "      <td>16</td>\n",
       "      <td>1</td>\n",
       "      <td>train-clean-360</td>\n",
       "      <td>25.11</td>\n",
       "      <td>Alys AtteWater</td>\n",
       "    </tr>\n",
       "    <tr>\n",
       "      <th>2</th>\n",
       "      <td>17</td>\n",
       "      <td>0</td>\n",
       "      <td>train-clean-360</td>\n",
       "      <td>25.04</td>\n",
       "      <td>Gord Mackenzie</td>\n",
       "    </tr>\n",
       "    <tr>\n",
       "      <th>3</th>\n",
       "      <td>19</td>\n",
       "      <td>1</td>\n",
       "      <td>train-clean-100</td>\n",
       "      <td>25.19</td>\n",
       "      <td>Kara Shallenberg</td>\n",
       "    </tr>\n",
       "    <tr>\n",
       "      <th>4</th>\n",
       "      <td>20</td>\n",
       "      <td>1</td>\n",
       "      <td>train-other-500</td>\n",
       "      <td>30.07</td>\n",
       "      <td>Gesine</td>\n",
       "    </tr>\n",
       "    <tr>\n",
       "      <th>5</th>\n",
       "      <td>22</td>\n",
       "      <td>1</td>\n",
       "      <td>train-clean-360</td>\n",
       "      <td>25.14</td>\n",
       "      <td>Michelle Crandall</td>\n",
       "    </tr>\n",
       "    <tr>\n",
       "      <th>6</th>\n",
       "      <td>23</td>\n",
       "      <td>1</td>\n",
       "      <td>train-clean-360</td>\n",
       "      <td>25.23</td>\n",
       "      <td>Anita Roy Dobbs</td>\n",
       "    </tr>\n",
       "    <tr>\n",
       "      <th>7</th>\n",
       "      <td>25</td>\n",
       "      <td>0</td>\n",
       "      <td>train-other-500</td>\n",
       "      <td>30.16</td>\n",
       "      <td>John Gonzalez</td>\n",
       "    </tr>\n",
       "    <tr>\n",
       "      <th>8</th>\n",
       "      <td>26</td>\n",
       "      <td>0</td>\n",
       "      <td>train-clean-100</td>\n",
       "      <td>25.08</td>\n",
       "      <td>Denny Sayers</td>\n",
       "    </tr>\n",
       "    <tr>\n",
       "      <th>9</th>\n",
       "      <td>27</td>\n",
       "      <td>0</td>\n",
       "      <td>train-clean-100</td>\n",
       "      <td>20.14</td>\n",
       "      <td>Sean McKinley</td>\n",
       "    </tr>\n",
       "  </tbody>\n",
       "</table>\n",
       "</div>"
      ],
      "text/plain": [
       "   ID  SEX           SUBSET  MINUTES                NAME\n",
       "0  14    1  train-clean-360    25.03     Kristin LeMoine\n",
       "1  16    1  train-clean-360    25.11      Alys AtteWater\n",
       "2  17    0  train-clean-360    25.04      Gord Mackenzie\n",
       "3  19    1  train-clean-100    25.19    Kara Shallenberg\n",
       "4  20    1  train-other-500    30.07              Gesine\n",
       "5  22    1  train-clean-360    25.14   Michelle Crandall\n",
       "6  23    1  train-clean-360    25.23     Anita Roy Dobbs\n",
       "7  25    0  train-other-500    30.16       John Gonzalez\n",
       "8  26    0  train-clean-100    25.08        Denny Sayers\n",
       "9  27    0  train-clean-100    20.14       Sean McKinley"
      ]
     },
     "execution_count": 178,
     "metadata": {},
     "output_type": "execute_result"
    }
   ],
   "source": [
    "speakers.head(10)"
   ]
  },
  {
   "cell_type": "code",
   "execution_count": 179,
   "metadata": {},
   "outputs": [
    {
     "name": "stdout",
     "output_type": "stream",
     "text": [
      "The whole data has 2483 rows and 5 columns\n"
     ]
    }
   ],
   "source": [
    "print(f'The whole data has {speakers.shape[0]} rows and {speakers.shape[1]} columns' )"
   ]
  },
  {
   "cell_type": "markdown",
   "metadata": {},
   "source": [
    "###### Select the `dev-clean` data out of all the data\n"
   ]
  },
  {
   "cell_type": "code",
   "execution_count": 180,
   "metadata": {},
   "outputs": [
    {
     "name": "stdout",
     "output_type": "stream",
     "text": [
      "Total amount of training data is: 40\n",
      " Number of MALES in full training data is:  20\n",
      " Number of FEMALES in full training data is:  20\n"
     ]
    },
    {
     "data": {
      "text/html": [
       "<div>\n",
       "<style scoped>\n",
       "    .dataframe tbody tr th:only-of-type {\n",
       "        vertical-align: middle;\n",
       "    }\n",
       "\n",
       "    .dataframe tbody tr th {\n",
       "        vertical-align: top;\n",
       "    }\n",
       "\n",
       "    .dataframe thead th {\n",
       "        text-align: right;\n",
       "    }\n",
       "</style>\n",
       "<table border=\"1\" class=\"dataframe\">\n",
       "  <thead>\n",
       "    <tr style=\"text-align: right;\">\n",
       "      <th></th>\n",
       "      <th>ID</th>\n",
       "      <th>SEX</th>\n",
       "      <th>SUBSET</th>\n",
       "      <th>MINUTES</th>\n",
       "      <th>NAME</th>\n",
       "    </tr>\n",
       "  </thead>\n",
       "  <tbody>\n",
       "    <tr>\n",
       "      <th>0</th>\n",
       "      <td>3170</td>\n",
       "      <td>0</td>\n",
       "      <td>dev-clean</td>\n",
       "      <td>8.10</td>\n",
       "      <td>VOICEGUY</td>\n",
       "    </tr>\n",
       "    <tr>\n",
       "      <th>1</th>\n",
       "      <td>2803</td>\n",
       "      <td>0</td>\n",
       "      <td>dev-clean</td>\n",
       "      <td>8.20</td>\n",
       "      <td>aquielisunari</td>\n",
       "    </tr>\n",
       "    <tr>\n",
       "      <th>2</th>\n",
       "      <td>174</td>\n",
       "      <td>0</td>\n",
       "      <td>dev-clean</td>\n",
       "      <td>8.04</td>\n",
       "      <td>Peter Eastman</td>\n",
       "    </tr>\n",
       "    <tr>\n",
       "      <th>3</th>\n",
       "      <td>652</td>\n",
       "      <td>0</td>\n",
       "      <td>dev-clean</td>\n",
       "      <td>8.31</td>\n",
       "      <td>Scott Walter</td>\n",
       "    </tr>\n",
       "    <tr>\n",
       "      <th>4</th>\n",
       "      <td>3000</td>\n",
       "      <td>0</td>\n",
       "      <td>dev-clean</td>\n",
       "      <td>8.03</td>\n",
       "      <td>Brian von Dedenroth</td>\n",
       "    </tr>\n",
       "    <tr>\n",
       "      <th>5</th>\n",
       "      <td>6241</td>\n",
       "      <td>0</td>\n",
       "      <td>dev-clean</td>\n",
       "      <td>8.05</td>\n",
       "      <td>badey</td>\n",
       "    </tr>\n",
       "    <tr>\n",
       "      <th>6</th>\n",
       "      <td>6295</td>\n",
       "      <td>0</td>\n",
       "      <td>dev-clean</td>\n",
       "      <td>8.04</td>\n",
       "      <td>Michael Packard</td>\n",
       "    </tr>\n",
       "    <tr>\n",
       "      <th>7</th>\n",
       "      <td>2428</td>\n",
       "      <td>0</td>\n",
       "      <td>dev-clean</td>\n",
       "      <td>8.02</td>\n",
       "      <td>Stephen Kinford</td>\n",
       "    </tr>\n",
       "    <tr>\n",
       "      <th>8</th>\n",
       "      <td>1272</td>\n",
       "      <td>0</td>\n",
       "      <td>dev-clean</td>\n",
       "      <td>8.02</td>\n",
       "      <td>John Rose</td>\n",
       "    </tr>\n",
       "    <tr>\n",
       "      <th>9</th>\n",
       "      <td>777</td>\n",
       "      <td>0</td>\n",
       "      <td>dev-clean</td>\n",
       "      <td>8.06</td>\n",
       "      <td>fling93</td>\n",
       "    </tr>\n",
       "    <tr>\n",
       "      <th>10</th>\n",
       "      <td>422</td>\n",
       "      <td>0</td>\n",
       "      <td>dev-clean</td>\n",
       "      <td>8.38</td>\n",
       "      <td>President Lethe</td>\n",
       "    </tr>\n",
       "    <tr>\n",
       "      <th>11</th>\n",
       "      <td>2078</td>\n",
       "      <td>0</td>\n",
       "      <td>dev-clean</td>\n",
       "      <td>8.03</td>\n",
       "      <td>Kathy Caver</td>\n",
       "    </tr>\n",
       "    <tr>\n",
       "      <th>12</th>\n",
       "      <td>7976</td>\n",
       "      <td>0</td>\n",
       "      <td>dev-clean</td>\n",
       "      <td>8.13</td>\n",
       "      <td>JenniferRutters</td>\n",
       "    </tr>\n",
       "    <tr>\n",
       "      <th>13</th>\n",
       "      <td>2086</td>\n",
       "      <td>0</td>\n",
       "      <td>dev-clean</td>\n",
       "      <td>8.04</td>\n",
       "      <td>Nicodemus</td>\n",
       "    </tr>\n",
       "    <tr>\n",
       "      <th>14</th>\n",
       "      <td>2902</td>\n",
       "      <td>0</td>\n",
       "      <td>dev-clean</td>\n",
       "      <td>8.10</td>\n",
       "      <td>dexter</td>\n",
       "    </tr>\n",
       "    <tr>\n",
       "      <th>15</th>\n",
       "      <td>8297</td>\n",
       "      <td>0</td>\n",
       "      <td>dev-clean</td>\n",
       "      <td>8.04</td>\n",
       "      <td>David Mecionis</td>\n",
       "    </tr>\n",
       "    <tr>\n",
       "      <th>16</th>\n",
       "      <td>251</td>\n",
       "      <td>0</td>\n",
       "      <td>dev-clean</td>\n",
       "      <td>8.04</td>\n",
       "      <td>Mark Nelson</td>\n",
       "    </tr>\n",
       "    <tr>\n",
       "      <th>17</th>\n",
       "      <td>5536</td>\n",
       "      <td>0</td>\n",
       "      <td>dev-clean</td>\n",
       "      <td>8.13</td>\n",
       "      <td>David Mix</td>\n",
       "    </tr>\n",
       "    <tr>\n",
       "      <th>18</th>\n",
       "      <td>3752</td>\n",
       "      <td>0</td>\n",
       "      <td>dev-clean</td>\n",
       "      <td>8.06</td>\n",
       "      <td>Mark Welch</td>\n",
       "    </tr>\n",
       "    <tr>\n",
       "      <th>19</th>\n",
       "      <td>5694</td>\n",
       "      <td>0</td>\n",
       "      <td>dev-clean</td>\n",
       "      <td>8.01</td>\n",
       "      <td>Winston Tharp</td>\n",
       "    </tr>\n",
       "  </tbody>\n",
       "</table>\n",
       "</div>"
      ],
      "text/plain": [
       "      ID  SEX     SUBSET  MINUTES                  NAME\n",
       "0   3170    0  dev-clean     8.10              VOICEGUY\n",
       "1   2803    0  dev-clean     8.20         aquielisunari\n",
       "2    174    0  dev-clean     8.04         Peter Eastman\n",
       "3    652    0  dev-clean     8.31          Scott Walter\n",
       "4   3000    0  dev-clean     8.03   Brian von Dedenroth\n",
       "5   6241    0  dev-clean     8.05                 badey\n",
       "6   6295    0  dev-clean     8.04       Michael Packard\n",
       "7   2428    0  dev-clean     8.02       Stephen Kinford\n",
       "8   1272    0  dev-clean     8.02             John Rose\n",
       "9    777    0  dev-clean     8.06               fling93\n",
       "10   422    0  dev-clean     8.38       President Lethe\n",
       "11  2078    0  dev-clean     8.03           Kathy Caver\n",
       "12  7976    0  dev-clean     8.13       JenniferRutters\n",
       "13  2086    0  dev-clean     8.04             Nicodemus\n",
       "14  2902    0  dev-clean     8.10                dexter\n",
       "15  8297    0  dev-clean     8.04        David Mecionis\n",
       "16   251    0  dev-clean     8.04           Mark Nelson\n",
       "17  5536    0  dev-clean     8.13             David Mix\n",
       "18  3752    0  dev-clean     8.06            Mark Welch\n",
       "19  5694    0  dev-clean     8.01         Winston Tharp"
      ]
     },
     "execution_count": 180,
     "metadata": {},
     "output_type": "execute_result"
    }
   ],
   "source": [
    "subset_length = 20     # 20 per gender\n",
    "subset_speakers = speakers[speakers.SUBSET == 'dev-clean']\n",
    "subset_speakers = subset_speakers.groupby('SEX', group_keys=False).apply(lambda x: x.sample(subset_length)).reset_index(drop =True)\n",
    "print(f'Total amount of training data is: {subset_speakers.shape[0]}')\n",
    "print(f' Number of MALES in full training data is: ', subset_speakers[subset_speakers.SEX == 0].shape[0])\n",
    "print(f' Number of FEMALES in full training data is: ', subset_speakers[subset_speakers.SEX == 1].shape[0])\n",
    "subset_speakers.head(20)                                                                    "
   ]
  },
  {
   "cell_type": "code",
   "execution_count": 181,
   "metadata": {},
   "outputs": [
    {
     "data": {
      "image/png": "[encoded data removed]",
      "text/plain": [
       "<Figure size 432x288 with 1 Axes>"
      ]
     },
     "metadata": {
      "needs_background": "light"
     },
     "output_type": "display_data"
    }
   ],
   "source": [
    "#np.random.seed(RANDOM_SEED)\n",
    "\n",
    "sex_plot = ['Male', 'Famale']\n",
    "minuites_per_gender = [subset_speakers[subset_speakers.SEX==0].MINUTES.sum(),\n",
    "                       subset_speakers[subset_speakers.SEX==1].MINUTES.sum()]\n",
    "\n",
    "\n",
    "\n",
    "plt.bar(sex_plot , minuites_per_gender )\n",
    "plt.title('Number of minutes per gender in training data')\n",
    "plt.ylabel('Minutes')\n",
    "plt.show()"
   ]
  },
  {
   "cell_type": "markdown",
   "metadata": {},
   "source": [
    "##### Select only 'ID' and 'SEX' columns for further processes"
   ]
  },
  {
   "cell_type": "code",
   "execution_count": 182,
   "metadata": {},
   "outputs": [],
   "source": [
    "subset_speakers = subset_speakers[['ID','SEX']]"
   ]
  },
  {
   "cell_type": "markdown",
   "metadata": {},
   "source": [
    "# VISUAL INSPECTION FOR FEATURE ENGINEERING"
   ]
  },
  {
   "cell_type": "markdown",
   "metadata": {},
   "source": [
    "Here, the goal is to visually inspect some of the files and their corresponding MFCC features. The isnpection is done per gender in order to see if it is possible to find visual differences in the signals produced by different genders.\n",
    "\n",
    "The process followed for this section is outlined below:\n",
    "1. Select two speakers each for male and female and visualize their raw and MFCC spectra. \n",
    "1. For Male gender, I selected speaker IDs: **3000 (Male 1), 6295 (Male 2)**. \n",
    "1. For females, I selected Speaker IDs: **2035 (Female 1), 6319 (Female 2)**. \n",
    "\n",
    "**This is an insufficient amount of samples to visualize, but should pass for this small task**\n",
    "\n",
    "For me to obtain the MFCC transform of the raw signals, I must select the `number of features` (i.e feature vector size). For this, I have selected 14 based on the results published [***HERE**](https://ieeexplore.ieee.org/document/647282) "
   ]
  },
  {
   "cell_type": "code",
   "execution_count": 183,
   "metadata": {},
   "outputs": [],
   "source": [
    "import librosa\n",
    "\n",
    "no_of_mfcc_features = 14 "
   ]
  },
  {
   "cell_type": "code",
   "execution_count": 184,
   "metadata": {},
   "outputs": [
    {
     "name": "stdout",
     "output_type": "stream",
     "text": [
      "Shape of the MFCC feature for Sample Male 1 is:  (14, 135)\n",
      "Shape of the MFCC feature for Sample Male 2 is:  (14, 761)\n"
     ]
    }
   ],
   "source": [
    "sample_male1_file_path = SPEECH_DATA_PATH + '/dev-clean/3000/15664/3000-15664-0000.flac'\n",
    "male1_audio, sr = librosa.load(sample_male1_file_path ,mono= True)\n",
    "male1_audio_mfcc_feature = librosa.feature.mfcc(male1_audio, n_mfcc= no_of_mfcc_features)\n",
    "\n",
    "sample_male2_file_path = SPEECH_DATA_PATH + '/dev-clean/6295/64301/6295-64301-0000.flac'\n",
    "male2_audio, sr = librosa.load(sample_male2_file_path ,mono= True)\n",
    "male2_audio_mfcc_feature = librosa.feature.mfcc(male2_audio, n_mfcc= no_of_mfcc_features)\n",
    "\n",
    "print('Shape of the MFCC feature for Sample Male 1 is: ', male1_audio_mfcc_feature.shape)\n",
    "print('Shape of the MFCC feature for Sample Male 2 is: ', male2_audio_mfcc_feature.shape)"
   ]
  },
  {
   "cell_type": "markdown",
   "metadata": {},
   "source": [
    "The cell below plots the raw, mfcc and binned sum of standard deviation of the mfcc features (binned into features [0 - 5] and [6 - 14]. The binned sum of standard deviation helps to emphsize the difference in variability between MFCC feature 0 - 5 and 5 - 14."
   ]
  },
  {
   "cell_type": "code",
   "execution_count": 185,
   "metadata": {},
   "outputs": [
    {
     "data": {
      "image/png": "[encoded data removed]",
      "text/plain": [
       "<Figure size 720x576 with 6 Axes>"
      ]
     },
     "metadata": {
      "needs_background": "light"
     },
     "output_type": "display_data"
    }
   ],
   "source": [
    "fig, axes = plt.subplots(nrows = 2, ncols = 3, figsize = (10,8))\n",
    "ax1, ax2, ax3, ax4, ax5, ax6 = axes.flatten()\n",
    "\n",
    "fig.suptitle('Sample male voice specch signals visualization and analysis', fontsize=16)\n",
    "#======================================================SAMPLE MALE 1=============================================\n",
    "ax1.plot(male1_audio)\n",
    "ax1.set_title(\"Raw\")\n",
    "ax2.imshow(male1_audio_mfcc_feature, interpolation='nearest', aspect='auto')\n",
    "ax1.set_title(\"MFCC\")\n",
    "ax3.bar(['MFCC 0-5 \\n standard \\n deviation', 'MFCC 6-14 \\n standard \\n deviation'],\n",
    "        [np.sum(np.std(male1_audio_mfcc_feature[:6,:], axis = 1)),  \n",
    "         np.sum(np.std(male1_audio_mfcc_feature[6:,:], axis = 1))])\n",
    "ax3.set_title('MFCC features binned \\n sum of standard deviation')\n",
    "\n",
    "#======================================================SAMPLE MALE 2=============================================\n",
    "\n",
    "ax4.plot(male2_audio)\n",
    "ax4.set_title(\"Male 2\")\n",
    "ax5.imshow(male2_audio_mfcc_feature, interpolation='nearest', aspect='auto')\n",
    "ax6.bar(['MFCC 0-5 \\n standard \\n deviation', 'MFCC 6-14 \\n standard \\n deviation'],\n",
    "        [np.sum(np.std(male2_audio_mfcc_feature[:6,:], axis = 1)),  \n",
    "         np.sum(np.std(male2_audio_mfcc_feature[6:,:], axis = 1))])\n",
    "ax6.set_title('MFCC features binned \\n sum of standard deviation')\n",
    "plt.tight_layout()\n",
    "\n",
    "fig.tight_layout()\n",
    "fig.subplots_adjust(top=0.88)"
   ]
  },
  {
   "cell_type": "code",
   "execution_count": 186,
   "metadata": {},
   "outputs": [
    {
     "name": "stdout",
     "output_type": "stream",
     "text": [
      "Shape of the MFCC feature for Samle Female 1 is:  (14, 389)\n",
      "Shape of the MFCC feature for Samle Female 2 is:  (14, 315)\n"
     ]
    }
   ],
   "source": [
    "sample_female1_file_path = SPEECH_DATA_PATH + '/dev-clean/2035/147960/2035-147960-0000.flac'\n",
    "female1_audio, sr = librosa.load(sample_female1_file_path ,mono= True)\n",
    "female1_audio_mfcc_feature = librosa.feature.mfcc(female1_audio, n_mfcc= no_of_mfcc_features)\n",
    "\n",
    "sample_female2_file_path = SPEECH_DATA_PATH + '/dev-clean/6319/57405/6319-57405-0000.flac'\n",
    "female2_audio, sr = librosa.load(sample_female2_file_path ,mono= True)\n",
    "female2_audio_mfcc_feature = librosa.feature.mfcc(female2_audio, n_mfcc= no_of_mfcc_features)\n",
    "\n",
    "print('Shape of the MFCC feature for Samle Female 1 is: ', female1_audio_mfcc_feature.shape)\n",
    "print('Shape of the MFCC feature for Samle Female 2 is: ', female2_audio_mfcc_feature.shape)"
   ]
  },
  {
   "cell_type": "code",
   "execution_count": 187,
   "metadata": {},
   "outputs": [
    {
     "data": {
      "image/png": "[encoded data removed]",
      "text/plain": [
       "<Figure size 720x576 with 6 Axes>"
      ]
     },
     "metadata": {
      "needs_background": "light"
     },
     "output_type": "display_data"
    }
   ],
   "source": [
    "fig, axes = plt.subplots(nrows= 2, ncols= 3, figsize= (10,8))\n",
    "ax1, ax2, ax3, ax4, ax5, ax6 = axes.flatten()\n",
    "\n",
    "fig.suptitle('Sample female voice specch signals visualization and analysis', fontsize=16)\n",
    "#======================================================SAMPLE FEMALE 1=============================================\n",
    "ax1.plot(female1_audio)\n",
    "ax1.set_title(\"Raw\")\n",
    "ax2.imshow(female1_audio_mfcc_feature, interpolation='nearest', aspect='auto')\n",
    "ax2.set_title(\"MFCC\")\n",
    "ax3.bar(['MFCC 0-5 \\n standard \\n deviation', 'MFCC 6-14 \\n standard \\n deviation'],\n",
    "        [np.sum(np.std(female1_audio_mfcc_feature[:6,:], axis = 1)),  \n",
    "         np.sum(np.std(female1_audio_mfcc_feature[6:,:], axis = 1))])\n",
    "ax3.set_title('MFCC features binned \\n sum of standard deviation')\n",
    "\n",
    "#======================================================SAMPLE FEMALE 2=============================================\n",
    "\n",
    "ax4.plot(female2_audio)\n",
    "ax4.set_title(\"Female 2\")\n",
    "ax5.imshow(female2_audio_mfcc_feature, interpolation='nearest', aspect='auto')\n",
    "ax6.bar(['MFCC 0-5 \\n standard \\n deviation', 'MFCC 6-14 \\n standard \\n deviation'],\n",
    "        [np.sum(np.std(female2_audio_mfcc_feature[:6,:], axis = 1)),  \n",
    "         np.sum(np.std(female2_audio_mfcc_feature[6:,:], axis = 1))])\n",
    "ax6.set_title('MFCC features binned \\n sum of standard deviation')\n",
    "fig.tight_layout()\n",
    "fig.subplots_adjust(top=0.88)"
   ]
  },
  {
   "cell_type": "markdown",
   "metadata": {},
   "source": [
    "The following points visualisation, are noted:\n",
    " 1. The first 6 MFCC features (0 - 5) capture the most variability. Since entropy is information, I thus proceed with the hypothesis that most of the information in the signals are captured in the first 6 MFCC features. I select these 6 and discard the rest.\n",
    " 1. There are no visual differences across gender from on the frames visualised.\n",
    " 1. The features are on of the same size for different audio files because the duration of the files are the equal. Since a typical machine learning model requires a defines inout size, there is the need to resample the data in such a way that all resulting features are equal. There are a few ways to go about this, each one with its own advantages. Some of the possible approaches are: \n",
    "     - cropping: most applicable if we know high density time region in most of the audio files\n",
    "     - Truncation: can lead to sparsity if many files have cold start (i.e sparsity at the beginning)\n",
    "     - Zero padding: works best when the differences sizes are not large. In cases where some frames are twice as long as others, this can lead to sparsity in certain padded features.\n",
    "     - Mean: The demerit of this approach is that it leads to loss of information. However, it can still be applicable in many cases.\n",
    "     - Standard deviation (std): Provides information on spectral variability. Also, with std, we lose information. In addition, it is sensitive to effects of the length of each audio frame. Longer frames have the dendency for higher standard deviation due to more samples. \n",
    "     \n",
    "For this work, I applied mean and standard deviation (concatenated together)\n",
    "     \n",
    "**It is important to mention that this visualization analysis is not rigorous. My idea (if I had enough time) would have been to visualize at least 50 different audio files so as to familiarize myself with the data. As they day, data science is mostly about feature engineering, and the best way to find the best features is to know your data.**"
   ]
  },
  {
   "cell_type": "markdown",
   "metadata": {},
   "source": [
    "# FEATURES EXTRACTION, TRANSFORMATION AND PREPARATION"
   ]
  },
  {
   "cell_type": "code",
   "execution_count": 114,
   "metadata": {},
   "outputs": [],
   "source": [
    "import librosa\n",
    "\n",
    "no_of_mfcc_features = 6 #https://ieeexplore.ieee.org/document/647282\n",
    "\n",
    "def compute_MFCC(file, num_of_features, sampling_rate = 22050):\n",
    "\n",
    "    \"\"\"\n",
    "    Input\n",
    "    ----------------------------------\n",
    "    filename: audio file name + directory pointer\n",
    "    sr : time domain samplinf rate \n",
    "    num_of_features: number of MFCC features to compute\n",
    "    \n",
    "    \n",
    "    \"\"\"\n",
    "    raw_audio, sr = librosa.load(file ,sr= sampling_rate, mono= True)\n",
    "    mfcc_feature = librosa.feature.mfcc(raw_audio ,sr= sampling_rate, n_mfcc= num_of_features)\n",
    "    mfcc_mean = np.mean(mfcc_feature, axis=1)#.reshape(1,-1)\n",
    "    mfcc_std = np.std(mfcc_feature, axis=1)#.reshape(1,-1) #mean of frame coefficients\n",
    "    return mfcc_mean.tolist(), mfcc_std.tolist()\n"
   ]
  },
  {
   "cell_type": "markdown",
   "metadata": {},
   "source": [
    "##### LOAD ALL AUDIO FILES AND EXTRACT REQUIRED FEATURES"
   ]
  },
  {
   "cell_type": "markdown",
   "metadata": {},
   "source": [
    "For each file, I extract the mean and standard deviation of MFCC features 0 - 5 and concatenate them, i.e [*mean, *std]"
   ]
  },
  {
   "cell_type": "code",
   "execution_count": 115,
   "metadata": {},
   "outputs": [],
   "source": [
    "from tqdm import tqdm\n",
    "\n",
    "try:\n",
    "    extracted_data = pd.read_csv('all_features.csv')\n",
    "except IOError:\n",
    "    all_features = []\n",
    "    sex = []\n",
    "    for _, row in subset_speakers.iterrows():\n",
    "        for root, dirs, files in tqdm(os.walk(SPEECH_DATA_PATH + 'dev-clean/' + str(row.ID))):\n",
    "            for name in files:\n",
    "                if name.endswith(('.flac')):\n",
    "                    filename = os.path.join(root, name)\n",
    "                    mfcc_features_mean, mfcc_features_std = compute_MFCC(filename, no_of_mfcc_features)\n",
    "                    combined_features = [*mfcc_features_mean, *mfcc_features_std]\n",
    "                    all_features.append(combined_features)\n",
    "                    sex.append(row.SEX)\n",
    "    print('The lenght of the gender list is', len(sex))\n",
    "    print('The number of feature rows extracted for all data is', len(all_features))\n",
    "    extracted_data = pd.DataFrame(all_features)\n",
    "    extracted_data['SEX'] =  sex\n",
    "    extracted_data.to_csv('all_features.csv')\n",
    "      "
   ]
  },
  {
   "cell_type": "code",
   "execution_count": 116,
   "metadata": {},
   "outputs": [],
   "source": [
    "sex_class = np.array(extracted_data.SEX)\n",
    "extracted_data = extracted_data.drop('SEX',axis=1)\n",
    "extracted_data = extracted_data.to_numpy()"
   ]
  },
  {
   "cell_type": "code",
   "execution_count": 117,
   "metadata": {},
   "outputs": [],
   "source": [
    "from sklearn.preprocessing import StandardScaler\n",
    "from sklearn.metrics import accuracy_score\n",
    "from sklearn.metrics import classification_report"
   ]
  },
  {
   "cell_type": "markdown",
   "metadata": {},
   "source": [
    "##### Split data into 60% training, 40% test (20% validation, 20% test for neural network)"
   ]
  },
  {
   "cell_type": "code",
   "execution_count": 118,
   "metadata": {},
   "outputs": [],
   "source": [
    "from sklearn.model_selection import train_test_split\n",
    "\n",
    "X_train, X_val_test, y_train, y_val_test = train_test_split(extracted_data, sex_class, test_size=0.4, \n",
    "                                                            random_state=RANDOM_SEED, stratify=sex_class)\n",
    "\n",
    "\n",
    "#Scaling data\n",
    "scalar = StandardScaler()\n",
    "scalar = scalar.fit(X_train)\n",
    "X_train_scaled = scalar.transform(X_train)\n",
    "X_val_test_scaled = scalar.transform(X_val_test)"
   ]
  },
  {
   "cell_type": "markdown",
   "metadata": {},
   "source": [
    "# EXPERIMENTAL PROCEDURE\n",
    "1. The dataset is split into two broad categories (60% training set, 40% tests set). For neural networks, the test set are further split in half to obtain validation and test sets for neural networks.\n",
    "1. The baseline model chosen for this task in k-Nearest Neighbor (KNN). \n",
    "1. KNN is used to empirically validate the need for standard deviation (STD) features. For this two KNN were fitted: one with mean and std MFCC features, the other with only mean MFCC features.\n",
    "1. Two other traditional machine learning models: random forest (RF) and Gaussian Naive Bayes (GNB) are then fitted and compared with each other and KNN.\n",
    "1. A feed-forward neural network and a 1D convolutional neural network are then fitted\n",
    "1. The final results are explained in the conclusion"
   ]
  },
  {
   "cell_type": "markdown",
   "metadata": {},
   "source": [
    "# MODELING"
   ]
  },
  {
   "cell_type": "code",
   "execution_count": 119,
   "metadata": {},
   "outputs": [],
   "source": [
    "X_val, X_test, y_val, y_test = train_test_split(X_val_test, y_val_test, test_size=0.5, \n",
    "                                                            random_state=RANDOM_SEED, stratify=y_val_test)\n",
    "#Scaling data\n",
    "X_val_scaled = scalar.transform(X_val)\n",
    "X_test_scaled = scalar.transform(X_test)"
   ]
  },
  {
   "cell_type": "markdown",
   "metadata": {},
   "source": [
    "In the cell bellow, I have created a feature that contains only the means (no standard deviation) of the MFCC features in other to cheak the effect of standard deviation information. This is dine by extracting columns 0 - 5 from the data\n",
    "\n",
    "Recall: the mean represents information in spectral amplitude and the standard deviation represents information about the spectral variability.\n",
    "\n"
   ]
  },
  {
   "cell_type": "code",
   "execution_count": 120,
   "metadata": {},
   "outputs": [],
   "source": [
    "X_train_scaled_means = X_train_scaled[:, :6]\n",
    "X_val_test_scaled_means = X_val_test_scaled[:, :6]"
   ]
  },
  {
   "cell_type": "markdown",
   "metadata": {},
   "source": [
    "###### k-Nearest Neighbor"
   ]
  },
  {
   "cell_type": "code",
   "execution_count": 121,
   "metadata": {},
   "outputs": [],
   "source": [
    "from sklearn.neighbors import KNeighborsClassifier"
   ]
  },
  {
   "cell_type": "code",
   "execution_count": 122,
   "metadata": {},
   "outputs": [
    {
     "data": {
      "text/plain": [
       "KNeighborsClassifier(algorithm='auto', leaf_size=30, metric='minkowski',\n",
       "                     metric_params=None, n_jobs=None, n_neighbors=10, p=2,\n",
       "                     weights='uniform')"
      ]
     },
     "execution_count": 122,
     "metadata": {},
     "output_type": "execute_result"
    }
   ],
   "source": [
    "knn = KNeighborsClassifier(n_neighbors=10)\n",
    "\n",
    "knn.fit(X_train_scaled, y_train)"
   ]
  },
  {
   "cell_type": "code",
   "execution_count": 123,
   "metadata": {},
   "outputs": [
    {
     "name": "stdout",
     "output_type": "stream",
     "text": [
      "The accuracy of K nearest neighbor on the test data (**MFCC mean + std**) is: \n",
      " 0.944547134935305\n"
     ]
    }
   ],
   "source": [
    "y_pred_full_knn = knn.predict(X_val_test_scaled)\n",
    "test_score_knn = accuracy_score(y_val_test, y_pred_full_knn)\n",
    "\n",
    "\n",
    "print(f'The accuracy of K nearest neighbor on the test data (**MFCC mean + std**) is: \\n {test_score_knn}')"
   ]
  },
  {
   "cell_type": "code",
   "execution_count": 124,
   "metadata": {},
   "outputs": [
    {
     "name": "stdout",
     "output_type": "stream",
     "text": [
      "The accuracy of K nearest neighbor on the test data (only MFCC mean) is: \n",
      " 0.8567467652495379\n"
     ]
    }
   ],
   "source": [
    "knn.fit(X_train_scaled_means, y_train)\n",
    "\n",
    "y_pred_means_knn = knn.predict(X_val_test_scaled_means)\n",
    "test_score_knn = accuracy_score(y_val_test, y_pred_means_knn)\n",
    "\n",
    "\n",
    "print(f'The accuracy of K nearest neighbor on the test data (only MFCC mean) is: \\n {test_score_knn}')"
   ]
  },
  {
   "cell_type": "code",
   "execution_count": 125,
   "metadata": {},
   "outputs": [
    {
     "data": {
      "image/png": "[encoded data removed]",
      "text/plain": [
       "<Figure size 432x288 with 1 Axes>"
      ]
     },
     "metadata": {
      "needs_background": "light"
     },
     "output_type": "display_data"
    }
   ],
   "source": [
    "plt.bar(['mean + std', 'mean only'], [0.944547134935305, 0.8567467652495379] )\n",
    "plt.ylabel('Accuracy score')\n",
    "plt.xlabel('MFCC features')\n",
    "plt.show()"
   ]
  },
  {
   "cell_type": "code",
   "execution_count": 126,
   "metadata": {},
   "outputs": [
    {
     "name": "stdout",
     "output_type": "stream",
     "text": [
      "Classification Report for K-nearest neighbor classifier with k = 10: \n",
      "               precision    recall  f1-score   support\n",
      "\n",
      "           0       0.92      0.97      0.94       532\n",
      "           1       0.97      0.92      0.94       550\n",
      "\n",
      "    accuracy                           0.94      1082\n",
      "   macro avg       0.95      0.94      0.94      1082\n",
      "weighted avg       0.95      0.94      0.94      1082\n",
      "\n"
     ]
    }
   ],
   "source": [
    "print('Classification Report for K-nearest neighbor classifier with k = 10: \\n',\n",
    "      classification_report(y_val_test, y_pred_full_knn))"
   ]
  },
  {
   "cell_type": "markdown",
   "metadata": {},
   "source": [
    "**Conclusion from KNN model tests** \n",
    "\n",
    "From the plot shown above, we can see that the variability of the MFCC features captured in the standard deviation is informative for this task. Actually it improves the classification accuracy by over **10%**. As a result, all further tests are conducted using **mean + standard deviation** features."
   ]
  },
  {
   "cell_type": "markdown",
   "metadata": {},
   "source": [
    "###### Gaussian Naive Bayes"
   ]
  },
  {
   "cell_type": "code",
   "execution_count": 127,
   "metadata": {},
   "outputs": [
    {
     "data": {
      "text/plain": [
       "GaussianNB(priors=None, var_smoothing=1e-09)"
      ]
     },
     "execution_count": 127,
     "metadata": {},
     "output_type": "execute_result"
    }
   ],
   "source": [
    "from sklearn.naive_bayes import GaussianNB\n",
    "\n",
    "gnb = GaussianNB()\n",
    "gnb.fit(X_train_scaled, y_train)\n",
    "\n"
   ]
  },
  {
   "cell_type": "code",
   "execution_count": 128,
   "metadata": {},
   "outputs": [
    {
     "name": "stdout",
     "output_type": "stream",
     "text": [
      "The accuracy of Gaussian Naive Bayes on the test data (MFCC mean + std) is: \n",
      " 0.8271719038817006\n",
      "=======================================================================================\n",
      "Classification Report for Naiva Bayes classifier: \n",
      "               precision    recall  f1-score   support\n",
      "\n",
      "           0       0.81      0.85      0.83       532\n",
      "           1       0.85      0.80      0.83       550\n",
      "\n",
      "    accuracy                           0.83      1082\n",
      "   macro avg       0.83      0.83      0.83      1082\n",
      "weighted avg       0.83      0.83      0.83      1082\n",
      "\n"
     ]
    }
   ],
   "source": [
    "y_pred_gnb = gnb.predict(X_val_test_scaled)\n",
    "test_score_gnb = accuracy_score(y_val_test, y_pred_gnb)\n",
    "print(f'The accuracy of Gaussian Naive Bayes on the test data (MFCC mean + std) is: \\n {test_score_gnb}')\n",
    "print('=======================================================================================')\n",
    "print('Classification Report for Naiva Bayes classifier: \\n',\n",
    "      classification_report(y_val_test, y_pred_gnb))"
   ]
  },
  {
   "cell_type": "markdown",
   "metadata": {},
   "source": [
    "###### Random Forest Classifier"
   ]
  },
  {
   "cell_type": "markdown",
   "metadata": {},
   "source": [
    "For the random forest classifier, I conduct a grid search for the optimal number of trees `n_estimators` and maximum tree depth `max_depth`. The best model whcih is fitted with the best parameters is then evaluated.\n",
    "\n",
    "Also, I used the `feature importances` in random forest to explain the contribution of each feature (mean and std features) to the model."
   ]
  },
  {
   "cell_type": "code",
   "execution_count": 129,
   "metadata": {},
   "outputs": [],
   "source": [
    "from sklearn.pipeline import Pipeline\n",
    "from sklearn.ensemble import RandomForestClassifier\n",
    "from sklearn.model_selection import GridSearchCV\n",
    "\n",
    "rf_pipeline = Pipeline([('rf', RandomForestClassifier())])\n",
    "\n",
    "params = {'rf__n_estimators': [50, 300],\n",
    "        'rf__max_depth': [30, 100],\n",
    "         'rf__random_state': [RANDOM_SEED]}\n"
   ]
  },
  {
   "cell_type": "code",
   "execution_count": 130,
   "metadata": {},
   "outputs": [
    {
     "name": "stdout",
     "output_type": "stream",
     "text": [
      "{'rf__max_depth': 30, 'rf__n_estimators': 300, 'rf__random_state': 42}\n"
     ]
    }
   ],
   "source": [
    "rf_grid_search = GridSearchCV(rf_pipeline, param_grid= params, scoring= 'f1', cv = 3)\n",
    "rf_grid_search.fit(X_train_scaled, y_train)\n",
    "\n",
    "print(rf_grid_search.best_params_)"
   ]
  },
  {
   "cell_type": "code",
   "execution_count": 131,
   "metadata": {},
   "outputs": [
    {
     "name": "stdout",
     "output_type": "stream",
     "text": [
      "The accuracy of RF on the test data (MFCC mean + std) is: \n",
      " 0.9048059149722736\n",
      "=======================================================================================\n",
      "Classification Report for Random Forest: \n",
      "               precision    recall  f1-score   support\n",
      "\n",
      "           0       0.88      0.93      0.91       532\n",
      "           1       0.93      0.88      0.90       550\n",
      "\n",
      "    accuracy                           0.90      1082\n",
      "   macro avg       0.91      0.91      0.90      1082\n",
      "weighted avg       0.91      0.90      0.90      1082\n",
      "\n"
     ]
    }
   ],
   "source": [
    "y_pred_rf = rf_grid_search.predict(X_val_test_scaled)\n",
    "test_score_rf = accuracy_score(y_val_test, y_pred_rf)\n",
    "print(f'The accuracy of RF on the test data (MFCC mean + std) is: \\n {test_score_rf}')\n",
    "print('=======================================================================================')\n",
    "print('Classification Report for Random Forest: \\n',\n",
    "      classification_report(y_val_test, y_pred_rf))"
   ]
  },
  {
   "cell_type": "code",
   "execution_count": 132,
   "metadata": {},
   "outputs": [
    {
     "data": {
      "image/png": "[encoded data removed]",
      "text/plain": [
       "<Figure size 720x360 with 1 Axes>"
      ]
     },
     "metadata": {
      "needs_background": "light"
     },
     "output_type": "display_data"
    }
   ],
   "source": [
    "feature_importances_rf = rf_grid_search.best_estimator_.steps[0][1].feature_importances_\n",
    "feature_names = ['Mean_' + str(n) if n < 6 else 'std_' + str(n-6) for n in range(12)]\n",
    "\n",
    "plt.figure(figsize=(10, 5))\n",
    "plt.bar(feature_names, feature_importances_rf)\n",
    "plt.ylabel('Importance')\n",
    "plt.xlabel('Feature')\n",
    "plt.tight_layout()\n",
    "plt.show()"
   ]
  },
  {
   "cell_type": "markdown",
   "metadata": {},
   "source": [
    "From the figure above, indeed we can see that the variability information provided by the standard deviation are more informative than the mean information.\n",
    "\n",
    "\n",
    "Below, the three classifiers fitted so far (GNB, RF and KNN) are compared in a bar plot"
   ]
  },
  {
   "cell_type": "code",
   "execution_count": 133,
   "metadata": {},
   "outputs": [
    {
     "data": {
      "image/png": "[encoded data removed]",
      "text/plain": [
       "<Figure size 432x288 with 1 Axes>"
      ]
     },
     "metadata": {
      "needs_background": "light"
     },
     "output_type": "display_data"
    }
   ],
   "source": [
    "plt.bar(['KNN', 'NaiveBayes', 'Random Forest'], [0.944547134935305, 0.8271719038817006, 0.9048059149722736] )\n",
    "plt.ylabel('Accuracy score')\n",
    "plt.xlabel('Classifiers')\n",
    "plt.title('Test accuracy')\n",
    "plt.show()"
   ]
  },
  {
   "cell_type": "markdown",
   "metadata": {},
   "source": [
    "Luckily, k-Nearest Neigbor (kNN), which is a relatively easy-to-train classifier produces the best result here. Complex is not always better. Feature engineering is the key. \n",
    "\n",
    "Also of note, Random forest helps us to understand the interaction between the MFCC features and the gender through the features ranking which has been plotted above. More optimization on the random forest model can be performed using the RF features ranking socre to drop uninformative features."
   ]
  },
  {
   "cell_type": "markdown",
   "metadata": {},
   "source": [
    "## Neural Networks\n"
   ]
  },
  {
   "cell_type": "markdown",
   "metadata": {},
   "source": [
    "#### - Feed Forward Neural Network (NN)"
   ]
  },
  {
   "cell_type": "code",
   "execution_count": 134,
   "metadata": {},
   "outputs": [],
   "source": [
    "import tensorflow as tf\n",
    "from keras.models import Sequential\n",
    "from keras.layers import Dense, Dropout, Flatten, Conv1D, MaxPooling1D\n",
    "from keras.utils import np_utils\n",
    "from keras.callbacks import Callback, EarlyStopping"
   ]
  },
  {
   "cell_type": "code",
   "execution_count": 135,
   "metadata": {},
   "outputs": [
    {
     "name": "stdout",
     "output_type": "stream",
     "text": [
      "Model: \"sequential_6\"\n",
      "_________________________________________________________________\n",
      "Layer (type)                 Output Shape              Param #   \n",
      "=================================================================\n",
      "dense_7 (Dense)              (None, 64)                832       \n",
      "_________________________________________________________________\n",
      "dropout_7 (Dropout)          (None, 64)                0         \n",
      "_________________________________________________________________\n",
      "dense_8 (Dense)              (None, 1)                 65        \n",
      "=================================================================\n",
      "Total params: 897\n",
      "Trainable params: 897\n",
      "Non-trainable params: 0\n",
      "_________________________________________________________________\n"
     ]
    }
   ],
   "source": [
    "def feed_forward_NN():\n",
    "    model = Sequential([\n",
    "              Dense(64, input_dim= X_train_scaled.shape[1], activation='relu'),\n",
    "              Dropout(.2),\n",
    "              Dense(1, activation = 'sigmoid')\n",
    "            ])\n",
    "    model.compile(optimizer='adam',\n",
    "              loss='binary_crossentropy',\n",
    "              metrics=['accuracy'])\n",
    "    return model\n",
    "\n",
    "model = feed_forward_NN()\n",
    "\n",
    "\n",
    "              \n",
    "model.summary()"
   ]
  },
  {
   "cell_type": "code",
   "execution_count": 136,
   "metadata": {},
   "outputs": [
    {
     "name": "stdout",
     "output_type": "stream",
     "text": [
      "Train on 1621 samples, validate on 541 samples\n",
      "Epoch 1/100\n",
      " - 0s - loss: 0.6055 - accuracy: 0.6848 - val_loss: 0.4901 - val_accuracy: 0.7967\n",
      "Epoch 2/100\n",
      " - 0s - loss: 0.4264 - accuracy: 0.8415 - val_loss: 0.3975 - val_accuracy: 0.8226\n",
      "Epoch 3/100\n",
      " - 0s - loss: 0.3559 - accuracy: 0.8606 - val_loss: 0.3550 - val_accuracy: 0.8429\n",
      "Epoch 4/100\n",
      " - 0s - loss: 0.3227 - accuracy: 0.8680 - val_loss: 0.3293 - val_accuracy: 0.8521\n",
      "Epoch 5/100\n",
      " - 0s - loss: 0.2926 - accuracy: 0.8754 - val_loss: 0.3103 - val_accuracy: 0.8558\n",
      "Epoch 6/100\n",
      " - 0s - loss: 0.2761 - accuracy: 0.8853 - val_loss: 0.2961 - val_accuracy: 0.8651\n",
      "Epoch 7/100\n",
      " - 0s - loss: 0.2647 - accuracy: 0.8914 - val_loss: 0.2847 - val_accuracy: 0.8688\n",
      "Epoch 8/100\n",
      " - 0s - loss: 0.2460 - accuracy: 0.8994 - val_loss: 0.2754 - val_accuracy: 0.8725\n",
      "Epoch 9/100\n",
      " - 0s - loss: 0.2365 - accuracy: 0.8994 - val_loss: 0.2662 - val_accuracy: 0.8743\n",
      "Epoch 10/100\n",
      " - 0s - loss: 0.2306 - accuracy: 0.9038 - val_loss: 0.2588 - val_accuracy: 0.8780\n",
      "Epoch 11/100\n",
      " - 0s - loss: 0.2170 - accuracy: 0.9093 - val_loss: 0.2521 - val_accuracy: 0.8817\n",
      "Epoch 12/100\n",
      " - 0s - loss: 0.2150 - accuracy: 0.9136 - val_loss: 0.2464 - val_accuracy: 0.8854\n",
      "Epoch 13/100\n",
      " - 0s - loss: 0.2037 - accuracy: 0.9223 - val_loss: 0.2416 - val_accuracy: 0.8872\n",
      "Epoch 14/100\n",
      " - 0s - loss: 0.2044 - accuracy: 0.9155 - val_loss: 0.2359 - val_accuracy: 0.8928\n",
      "Epoch 15/100\n",
      " - 0s - loss: 0.1960 - accuracy: 0.9173 - val_loss: 0.2326 - val_accuracy: 0.8965\n",
      "Epoch 16/100\n",
      " - 0s - loss: 0.1904 - accuracy: 0.9247 - val_loss: 0.2276 - val_accuracy: 0.8965\n",
      "Epoch 17/100\n",
      " - 0s - loss: 0.1886 - accuracy: 0.9210 - val_loss: 0.2246 - val_accuracy: 0.8965\n",
      "Epoch 18/100\n",
      " - 0s - loss: 0.1858 - accuracy: 0.9315 - val_loss: 0.2214 - val_accuracy: 0.9057\n",
      "Epoch 19/100\n",
      " - 0s - loss: 0.1763 - accuracy: 0.9334 - val_loss: 0.2185 - val_accuracy: 0.9039\n",
      "Epoch 20/100\n",
      " - 0s - loss: 0.1759 - accuracy: 0.9321 - val_loss: 0.2150 - val_accuracy: 0.9057\n",
      "Epoch 21/100\n",
      " - 0s - loss: 0.1702 - accuracy: 0.9321 - val_loss: 0.2120 - val_accuracy: 0.9094\n",
      "Epoch 22/100\n",
      " - 0s - loss: 0.1758 - accuracy: 0.9315 - val_loss: 0.2088 - val_accuracy: 0.9150\n",
      "Epoch 23/100\n",
      " - 0s - loss: 0.1681 - accuracy: 0.9358 - val_loss: 0.2072 - val_accuracy: 0.9131\n",
      "Epoch 24/100\n",
      " - 0s - loss: 0.1694 - accuracy: 0.9377 - val_loss: 0.2041 - val_accuracy: 0.9131\n",
      "Epoch 25/100\n",
      " - 0s - loss: 0.1619 - accuracy: 0.9395 - val_loss: 0.2029 - val_accuracy: 0.9168\n",
      "Epoch 26/100\n",
      " - 0s - loss: 0.1578 - accuracy: 0.9402 - val_loss: 0.2028 - val_accuracy: 0.9150\n",
      "Epoch 27/100\n",
      " - 0s - loss: 0.1551 - accuracy: 0.9439 - val_loss: 0.1998 - val_accuracy: 0.9187\n",
      "Epoch 28/100\n",
      " - 0s - loss: 0.1538 - accuracy: 0.9383 - val_loss: 0.1972 - val_accuracy: 0.9187\n",
      "Epoch 29/100\n",
      " - 0s - loss: 0.1528 - accuracy: 0.9432 - val_loss: 0.1967 - val_accuracy: 0.9205\n",
      "Epoch 30/100\n",
      " - 0s - loss: 0.1594 - accuracy: 0.9365 - val_loss: 0.1943 - val_accuracy: 0.9150\n",
      "Epoch 31/100\n",
      " - 0s - loss: 0.1511 - accuracy: 0.9488 - val_loss: 0.1926 - val_accuracy: 0.9187\n",
      "Epoch 32/100\n",
      " - 0s - loss: 0.1491 - accuracy: 0.9457 - val_loss: 0.1908 - val_accuracy: 0.9242\n",
      "Epoch 33/100\n",
      " - 0s - loss: 0.1449 - accuracy: 0.9494 - val_loss: 0.1899 - val_accuracy: 0.9224\n",
      "Epoch 34/100\n",
      " - 0s - loss: 0.1456 - accuracy: 0.9488 - val_loss: 0.1880 - val_accuracy: 0.9205\n",
      "Epoch 35/100\n",
      " - 0s - loss: 0.1459 - accuracy: 0.9420 - val_loss: 0.1863 - val_accuracy: 0.9224\n",
      "Epoch 36/100\n",
      " - 0s - loss: 0.1454 - accuracy: 0.9488 - val_loss: 0.1862 - val_accuracy: 0.9187\n",
      "Epoch 37/100\n",
      " - 0s - loss: 0.1407 - accuracy: 0.9494 - val_loss: 0.1838 - val_accuracy: 0.9205\n",
      "Epoch 38/100\n",
      " - 0s - loss: 0.1358 - accuracy: 0.9556 - val_loss: 0.1839 - val_accuracy: 0.9205\n",
      "Epoch 39/100\n",
      " - 0s - loss: 0.1423 - accuracy: 0.9469 - val_loss: 0.1833 - val_accuracy: 0.9187\n",
      "Epoch 40/100\n",
      " - 0s - loss: 0.1406 - accuracy: 0.9482 - val_loss: 0.1808 - val_accuracy: 0.9279\n",
      "Epoch 41/100\n",
      " - 0s - loss: 0.1314 - accuracy: 0.9488 - val_loss: 0.1795 - val_accuracy: 0.9224\n",
      "Epoch 42/100\n",
      " - 0s - loss: 0.1342 - accuracy: 0.9519 - val_loss: 0.1785 - val_accuracy: 0.9242\n",
      "Epoch 43/100\n",
      " - 0s - loss: 0.1341 - accuracy: 0.9463 - val_loss: 0.1771 - val_accuracy: 0.9261\n",
      "Epoch 44/100\n",
      " - 0s - loss: 0.1297 - accuracy: 0.9543 - val_loss: 0.1761 - val_accuracy: 0.9298\n",
      "Epoch 45/100\n",
      " - 0s - loss: 0.1365 - accuracy: 0.9482 - val_loss: 0.1756 - val_accuracy: 0.9298\n",
      "Epoch 46/100\n",
      " - 0s - loss: 0.1321 - accuracy: 0.9574 - val_loss: 0.1751 - val_accuracy: 0.9279\n",
      "Epoch 47/100\n",
      " - 0s - loss: 0.1242 - accuracy: 0.9562 - val_loss: 0.1746 - val_accuracy: 0.9298\n",
      "Epoch 48/100\n",
      " - 0s - loss: 0.1287 - accuracy: 0.9525 - val_loss: 0.1727 - val_accuracy: 0.9298\n",
      "Epoch 49/100\n",
      " - 0s - loss: 0.1295 - accuracy: 0.9488 - val_loss: 0.1726 - val_accuracy: 0.9261\n",
      "Epoch 50/100\n",
      " - 0s - loss: 0.1287 - accuracy: 0.9469 - val_loss: 0.1716 - val_accuracy: 0.9279\n",
      "Epoch 51/100\n",
      " - 0s - loss: 0.1248 - accuracy: 0.9537 - val_loss: 0.1715 - val_accuracy: 0.9353\n",
      "Epoch 52/100\n",
      " - 0s - loss: 0.1257 - accuracy: 0.9519 - val_loss: 0.1710 - val_accuracy: 0.9335\n",
      "Epoch 53/100\n",
      " - 0s - loss: 0.1222 - accuracy: 0.9488 - val_loss: 0.1714 - val_accuracy: 0.9353\n",
      "Epoch 54/100\n",
      " - 0s - loss: 0.1198 - accuracy: 0.9525 - val_loss: 0.1697 - val_accuracy: 0.9335\n",
      "Epoch 55/100\n",
      " - 0s - loss: 0.1214 - accuracy: 0.9568 - val_loss: 0.1676 - val_accuracy: 0.9390\n",
      "Epoch 56/100\n",
      " - 0s - loss: 0.1204 - accuracy: 0.9543 - val_loss: 0.1675 - val_accuracy: 0.9335\n",
      "Epoch 57/100\n",
      " - 0s - loss: 0.1232 - accuracy: 0.9476 - val_loss: 0.1665 - val_accuracy: 0.9390\n",
      "Epoch 58/100\n",
      " - 0s - loss: 0.1237 - accuracy: 0.9506 - val_loss: 0.1683 - val_accuracy: 0.9353\n",
      "Epoch 59/100\n",
      " - 0s - loss: 0.1171 - accuracy: 0.9519 - val_loss: 0.1675 - val_accuracy: 0.9372\n",
      "Epoch 60/100\n",
      " - 0s - loss: 0.1189 - accuracy: 0.9568 - val_loss: 0.1673 - val_accuracy: 0.9390\n",
      "Epoch 61/100\n",
      " - 0s - loss: 0.1131 - accuracy: 0.9568 - val_loss: 0.1661 - val_accuracy: 0.9409\n",
      "Epoch 62/100\n",
      " - 0s - loss: 0.1133 - accuracy: 0.9599 - val_loss: 0.1659 - val_accuracy: 0.9372\n",
      "Epoch 63/100\n",
      " - 0s - loss: 0.1116 - accuracy: 0.9568 - val_loss: 0.1656 - val_accuracy: 0.9372\n",
      "Epoch 64/100\n",
      " - 0s - loss: 0.1127 - accuracy: 0.9513 - val_loss: 0.1647 - val_accuracy: 0.9390\n",
      "Epoch 65/100\n",
      " - 0s - loss: 0.1112 - accuracy: 0.9605 - val_loss: 0.1635 - val_accuracy: 0.9372\n",
      "Epoch 66/100\n",
      " - 0s - loss: 0.1154 - accuracy: 0.9611 - val_loss: 0.1639 - val_accuracy: 0.9390\n",
      "Epoch 67/100\n",
      " - 0s - loss: 0.1160 - accuracy: 0.9574 - val_loss: 0.1635 - val_accuracy: 0.9372\n",
      "Epoch 68/100\n",
      " - 0s - loss: 0.1079 - accuracy: 0.9568 - val_loss: 0.1630 - val_accuracy: 0.9390\n",
      "Epoch 69/100\n",
      " - 0s - loss: 0.1069 - accuracy: 0.9581 - val_loss: 0.1624 - val_accuracy: 0.9390\n",
      "Epoch 70/100\n",
      " - 0s - loss: 0.1052 - accuracy: 0.9642 - val_loss: 0.1611 - val_accuracy: 0.9409\n",
      "Epoch 71/100\n",
      " - 0s - loss: 0.1055 - accuracy: 0.9568 - val_loss: 0.1622 - val_accuracy: 0.9390\n",
      "Epoch 72/100\n",
      " - 0s - loss: 0.1140 - accuracy: 0.9513 - val_loss: 0.1615 - val_accuracy: 0.9445\n",
      "Epoch 73/100\n",
      " - 0s - loss: 0.1157 - accuracy: 0.9574 - val_loss: 0.1619 - val_accuracy: 0.9372\n",
      "Epoch 74/100\n",
      " - 0s - loss: 0.1102 - accuracy: 0.9574 - val_loss: 0.1624 - val_accuracy: 0.9409\n",
      "Epoch 75/100\n",
      " - 0s - loss: 0.1045 - accuracy: 0.9587 - val_loss: 0.1645 - val_accuracy: 0.9409\n",
      "Epoch 76/100\n",
      " - 0s - loss: 0.1066 - accuracy: 0.9574 - val_loss: 0.1637 - val_accuracy: 0.9427\n",
      "Epoch 77/100\n",
      " - 0s - loss: 0.1071 - accuracy: 0.9593 - val_loss: 0.1603 - val_accuracy: 0.9409\n",
      "Epoch 78/100\n",
      " - 0s - loss: 0.1091 - accuracy: 0.9624 - val_loss: 0.1592 - val_accuracy: 0.9427\n",
      "Epoch 79/100\n",
      " - 0s - loss: 0.1085 - accuracy: 0.9556 - val_loss: 0.1596 - val_accuracy: 0.9445\n",
      "Epoch 80/100\n",
      " - 0s - loss: 0.1068 - accuracy: 0.9587 - val_loss: 0.1583 - val_accuracy: 0.9445\n",
      "Epoch 81/100\n",
      " - 0s - loss: 0.1006 - accuracy: 0.9599 - val_loss: 0.1582 - val_accuracy: 0.9427\n",
      "Epoch 82/100\n",
      " - 0s - loss: 0.1077 - accuracy: 0.9593 - val_loss: 0.1571 - val_accuracy: 0.9445\n",
      "Epoch 83/100\n",
      " - 0s - loss: 0.1009 - accuracy: 0.9642 - val_loss: 0.1588 - val_accuracy: 0.9427\n",
      "Epoch 84/100\n",
      " - 0s - loss: 0.1040 - accuracy: 0.9642 - val_loss: 0.1561 - val_accuracy: 0.9427\n",
      "Epoch 85/100\n",
      " - 0s - loss: 0.1048 - accuracy: 0.9642 - val_loss: 0.1560 - val_accuracy: 0.9445\n",
      "Epoch 86/100\n",
      " - 0s - loss: 0.1077 - accuracy: 0.9550 - val_loss: 0.1559 - val_accuracy: 0.9390\n"
     ]
    },
    {
     "name": "stdout",
     "output_type": "stream",
     "text": [
      "Epoch 87/100\n",
      " - 0s - loss: 0.1082 - accuracy: 0.9587 - val_loss: 0.1584 - val_accuracy: 0.9427\n",
      "Epoch 88/100\n",
      " - 0s - loss: 0.0994 - accuracy: 0.9642 - val_loss: 0.1571 - val_accuracy: 0.9372\n",
      "Epoch 89/100\n",
      " - 0s - loss: 0.1037 - accuracy: 0.9574 - val_loss: 0.1542 - val_accuracy: 0.9409\n",
      "Epoch 90/100\n",
      " - 0s - loss: 0.0986 - accuracy: 0.9581 - val_loss: 0.1555 - val_accuracy: 0.9390\n",
      "Epoch 91/100\n",
      " - 0s - loss: 0.0977 - accuracy: 0.9655 - val_loss: 0.1541 - val_accuracy: 0.9464\n",
      "Epoch 92/100\n",
      " - 0s - loss: 0.0970 - accuracy: 0.9636 - val_loss: 0.1540 - val_accuracy: 0.9409\n",
      "Epoch 93/100\n",
      " - 0s - loss: 0.0954 - accuracy: 0.9618 - val_loss: 0.1539 - val_accuracy: 0.9445\n",
      "Epoch 94/100\n",
      " - 0s - loss: 0.0999 - accuracy: 0.9599 - val_loss: 0.1535 - val_accuracy: 0.9427\n",
      "Epoch 95/100\n",
      " - 0s - loss: 0.0982 - accuracy: 0.9667 - val_loss: 0.1536 - val_accuracy: 0.9427\n",
      "Epoch 96/100\n",
      " - 0s - loss: 0.0971 - accuracy: 0.9624 - val_loss: 0.1549 - val_accuracy: 0.9427\n",
      "Epoch 97/100\n",
      " - 0s - loss: 0.0991 - accuracy: 0.9624 - val_loss: 0.1534 - val_accuracy: 0.9445\n",
      "Epoch 98/100\n",
      " - 0s - loss: 0.1010 - accuracy: 0.9630 - val_loss: 0.1535 - val_accuracy: 0.9427\n",
      "Epoch 99/100\n",
      " - 0s - loss: 0.0945 - accuracy: 0.9642 - val_loss: 0.1506 - val_accuracy: 0.9427\n",
      "Epoch 100/100\n",
      " - 0s - loss: 0.0953 - accuracy: 0.9648 - val_loss: 0.1528 - val_accuracy: 0.9464\n"
     ]
    }
   ],
   "source": [
    "\n",
    "history = model.fit(X_train_scaled, y_train,\n",
    "          batch_size= 32, validation_data= [X_val_scaled, y_val],\n",
    "          epochs=100, verbose=2)"
   ]
  },
  {
   "cell_type": "code",
   "execution_count": 145,
   "metadata": {},
   "outputs": [
    {
     "name": "stdout",
     "output_type": "stream",
     "text": [
      "The accuracy of Feed foward NN on the test data (MFCC mean + std) is: \n",
      " 0.9408502772643254\n",
      "=======================================================================================\n",
      "Classification Report for Feed foward NN: \n",
      "               precision    recall  f1-score   support\n",
      "\n",
      "           0       0.93      0.95      0.94       266\n",
      "           1       0.95      0.93      0.94       275\n",
      "\n",
      "    accuracy                           0.94       541\n",
      "   macro avg       0.94      0.94      0.94       541\n",
      "weighted avg       0.94      0.94      0.94       541\n",
      "\n"
     ]
    }
   ],
   "source": [
    "y_pred_feed_forward = model.predict_classes(X_test_scaled)\n",
    "test_score_feed_forward = accuracy_score(y_test, y_pred_feed_forward)\n",
    "print(f'The accuracy of Feed foward NN on the test data (MFCC mean + std) is: \\n {test_score_feed_forward}')\n",
    "print('=======================================================================================')\n",
    "print('Classification Report for Feed foward NN: \\n',\n",
    "      classification_report(y_test, y_pred_feed_forward))"
   ]
  },
  {
   "cell_type": "code",
   "execution_count": 165,
   "metadata": {},
   "outputs": [
    {
     "data": {
      "text/plain": [
       "<function matplotlib.pyplot.show(*args, **kw)>"
      ]
     },
     "execution_count": 165,
     "metadata": {},
     "output_type": "execute_result"
    },
    {
     "data": {
      "image/png": "[encoded data removed]",
      "text/plain": [
       "<Figure size 720x360 with 2 Axes>"
      ]
     },
     "metadata": {
      "needs_background": "light"
     },
     "output_type": "display_data"
    }
   ],
   "source": [
    "fig, [ax1, ax2] = plt.subplots(nrows= 1, ncols= 2, figsize = (10, 5))\n",
    "ax1.plot(history.history['accuracy'], label = 'Training')\n",
    "ax1.plot(history.history['val_accuracy'], label = 'Validation')\n",
    "ax1.set_title('Model accuracy')\n",
    "ax1.set_xlabel('Epoch')\n",
    "ax1.set_ylabel('Accuracy')\n",
    "ax2.plot(history.history['loss'], label = 'Training')\n",
    "ax2.plot(history.history['val_loss'], label = 'Validation')\n",
    "ax2.set_title('Model loss')\n",
    "ax2.set_xlabel('Epoch')\n",
    "ax2.set_ylabel('Loss')\n",
    "plt.legend()\n",
    "plt.tight_layout()\n",
    "plt.show"
   ]
  },
  {
   "cell_type": "markdown",
   "metadata": {},
   "source": [
    "##### Convolutional neural network (CNN)"
   ]
  },
  {
   "cell_type": "code",
   "execution_count": 156,
   "metadata": {},
   "outputs": [
    {
     "name": "stdout",
     "output_type": "stream",
     "text": [
      "Model: \"sequential_9\"\n",
      "_________________________________________________________________\n",
      "Layer (type)                 Output Shape              Param #   \n",
      "=================================================================\n",
      "conv1d_8 (Conv1D)            (None, 10, 64)            256       \n",
      "_________________________________________________________________\n",
      "dropout_10 (Dropout)         (None, 10, 64)            0         \n",
      "_________________________________________________________________\n",
      "flatten_7 (Flatten)          (None, 640)               0         \n",
      "_________________________________________________________________\n",
      "dense_11 (Dense)             (None, 1)                 641       \n",
      "=================================================================\n",
      "Total params: 897\n",
      "Trainable params: 897\n",
      "Non-trainable params: 0\n",
      "_________________________________________________________________\n"
     ]
    }
   ],
   "source": [
    "def CNN():\n",
    "    model = Sequential([\n",
    "            Conv1D(filters=64, kernel_size=3, activation='relu', input_shape=(X_train_scaled.shape[1], 1)),\n",
    "            Dropout(0.2),\n",
    "            Flatten(),\n",
    "            Dense(1, activation='sigmoid')])\n",
    "    model.compile(optimizer='adam',\n",
    "              loss='binary_crossentropy',\n",
    "              metrics=['accuracy'])\n",
    "    return model\n",
    "\n",
    "\n",
    "model_cnn = CNN()\n",
    "\n",
    "\n",
    "              \n",
    "model_cnn.summary()"
   ]
  },
  {
   "cell_type": "code",
   "execution_count": 157,
   "metadata": {},
   "outputs": [
    {
     "name": "stdout",
     "output_type": "stream",
     "text": [
      "Train on 1621 samples, validate on 541 samples\n",
      "Epoch 1/100\n",
      " - 1s - loss: 0.5588 - accuracy: 0.7822 - val_loss: 0.4470 - val_accuracy: 0.8189\n",
      "Epoch 2/100\n",
      " - 0s - loss: 0.3906 - accuracy: 0.8513 - val_loss: 0.3653 - val_accuracy: 0.8410\n",
      "Epoch 3/100\n",
      " - 0s - loss: 0.3282 - accuracy: 0.8735 - val_loss: 0.3314 - val_accuracy: 0.8595\n",
      "Epoch 4/100\n",
      " - 0s - loss: 0.2952 - accuracy: 0.8816 - val_loss: 0.3173 - val_accuracy: 0.8558\n",
      "Epoch 5/100\n",
      " - 0s - loss: 0.2748 - accuracy: 0.8859 - val_loss: 0.3047 - val_accuracy: 0.8632\n",
      "Epoch 6/100\n",
      " - 0s - loss: 0.2627 - accuracy: 0.8970 - val_loss: 0.2986 - val_accuracy: 0.8651\n",
      "Epoch 7/100\n",
      " - 0s - loss: 0.2537 - accuracy: 0.9007 - val_loss: 0.2952 - val_accuracy: 0.8632\n",
      "Epoch 8/100\n",
      " - 0s - loss: 0.2469 - accuracy: 0.9050 - val_loss: 0.2906 - val_accuracy: 0.8743\n",
      "Epoch 9/100\n",
      " - 0s - loss: 0.2415 - accuracy: 0.9050 - val_loss: 0.2887 - val_accuracy: 0.8780\n",
      "Epoch 10/100\n",
      " - 0s - loss: 0.2345 - accuracy: 0.9044 - val_loss: 0.2830 - val_accuracy: 0.8835\n",
      "Epoch 11/100\n",
      " - 0s - loss: 0.2271 - accuracy: 0.9075 - val_loss: 0.2806 - val_accuracy: 0.8835\n",
      "Epoch 12/100\n",
      " - 0s - loss: 0.2243 - accuracy: 0.9112 - val_loss: 0.2793 - val_accuracy: 0.8835\n",
      "Epoch 13/100\n",
      " - 0s - loss: 0.2231 - accuracy: 0.9112 - val_loss: 0.2767 - val_accuracy: 0.8872\n",
      "Epoch 14/100\n",
      " - 0s - loss: 0.2169 - accuracy: 0.9118 - val_loss: 0.2754 - val_accuracy: 0.8854\n",
      "Epoch 15/100\n",
      " - 0s - loss: 0.2133 - accuracy: 0.9143 - val_loss: 0.2711 - val_accuracy: 0.8909\n",
      "Epoch 16/100\n",
      " - 0s - loss: 0.2140 - accuracy: 0.9099 - val_loss: 0.2687 - val_accuracy: 0.8946\n",
      "Epoch 17/100\n",
      " - 0s - loss: 0.2096 - accuracy: 0.9130 - val_loss: 0.2670 - val_accuracy: 0.8928\n",
      "Epoch 18/100\n",
      " - 0s - loss: 0.2057 - accuracy: 0.9217 - val_loss: 0.2635 - val_accuracy: 0.8946\n",
      "Epoch 19/100\n",
      " - 0s - loss: 0.2039 - accuracy: 0.9192 - val_loss: 0.2641 - val_accuracy: 0.8928\n",
      "Epoch 20/100\n",
      " - 0s - loss: 0.2003 - accuracy: 0.9272 - val_loss: 0.2596 - val_accuracy: 0.8946\n",
      "Epoch 21/100\n",
      " - 0s - loss: 0.2007 - accuracy: 0.9155 - val_loss: 0.2635 - val_accuracy: 0.8928\n",
      "Epoch 22/100\n",
      " - 0s - loss: 0.2011 - accuracy: 0.9223 - val_loss: 0.2581 - val_accuracy: 0.8909\n",
      "Epoch 23/100\n",
      " - 0s - loss: 0.1985 - accuracy: 0.9204 - val_loss: 0.2587 - val_accuracy: 0.9002\n",
      "Epoch 24/100\n",
      " - 0s - loss: 0.1935 - accuracy: 0.9297 - val_loss: 0.2566 - val_accuracy: 0.8965\n",
      "Epoch 25/100\n",
      " - 0s - loss: 0.1875 - accuracy: 0.9217 - val_loss: 0.2562 - val_accuracy: 0.8965\n",
      "Epoch 26/100\n",
      " - 0s - loss: 0.2000 - accuracy: 0.9235 - val_loss: 0.2542 - val_accuracy: 0.8983\n",
      "Epoch 27/100\n",
      " - 0s - loss: 0.1886 - accuracy: 0.9297 - val_loss: 0.2520 - val_accuracy: 0.8965\n",
      "Epoch 28/100\n",
      " - 0s - loss: 0.1892 - accuracy: 0.9260 - val_loss: 0.2507 - val_accuracy: 0.9002\n",
      "Epoch 29/100\n",
      " - 0s - loss: 0.1891 - accuracy: 0.9241 - val_loss: 0.2505 - val_accuracy: 0.8983\n",
      "Epoch 30/100\n",
      " - 0s - loss: 0.1844 - accuracy: 0.9309 - val_loss: 0.2490 - val_accuracy: 0.8965\n",
      "Epoch 31/100\n",
      " - 0s - loss: 0.1805 - accuracy: 0.9321 - val_loss: 0.2505 - val_accuracy: 0.8983\n",
      "Epoch 32/100\n",
      " - 0s - loss: 0.1879 - accuracy: 0.9284 - val_loss: 0.2474 - val_accuracy: 0.8946\n",
      "Epoch 33/100\n",
      " - 0s - loss: 0.1867 - accuracy: 0.9278 - val_loss: 0.2481 - val_accuracy: 0.8965\n",
      "Epoch 34/100\n",
      " - 0s - loss: 0.1781 - accuracy: 0.9315 - val_loss: 0.2453 - val_accuracy: 0.9020\n",
      "Epoch 35/100\n",
      " - 0s - loss: 0.1803 - accuracy: 0.9272 - val_loss: 0.2465 - val_accuracy: 0.8983\n",
      "Epoch 36/100\n",
      " - 0s - loss: 0.1842 - accuracy: 0.9278 - val_loss: 0.2423 - val_accuracy: 0.8965\n",
      "Epoch 37/100\n",
      " - 0s - loss: 0.1799 - accuracy: 0.9321 - val_loss: 0.2427 - val_accuracy: 0.8983\n",
      "Epoch 38/100\n",
      " - 0s - loss: 0.1783 - accuracy: 0.9291 - val_loss: 0.2410 - val_accuracy: 0.9002\n",
      "Epoch 39/100\n",
      " - 0s - loss: 0.1822 - accuracy: 0.9321 - val_loss: 0.2423 - val_accuracy: 0.8983\n",
      "Epoch 40/100\n",
      " - 0s - loss: 0.1761 - accuracy: 0.9309 - val_loss: 0.2410 - val_accuracy: 0.8946\n",
      "Epoch 41/100\n",
      " - 0s - loss: 0.1757 - accuracy: 0.9315 - val_loss: 0.2407 - val_accuracy: 0.8965\n",
      "Epoch 42/100\n",
      " - 0s - loss: 0.1775 - accuracy: 0.9334 - val_loss: 0.2430 - val_accuracy: 0.8983\n",
      "Epoch 43/100\n",
      " - 0s - loss: 0.1724 - accuracy: 0.9309 - val_loss: 0.2373 - val_accuracy: 0.8946\n",
      "Epoch 44/100\n",
      " - 0s - loss: 0.1713 - accuracy: 0.9309 - val_loss: 0.2405 - val_accuracy: 0.9002\n",
      "Epoch 45/100\n",
      " - 0s - loss: 0.1740 - accuracy: 0.9315 - val_loss: 0.2394 - val_accuracy: 0.9002\n",
      "Epoch 46/100\n",
      " - 0s - loss: 0.1713 - accuracy: 0.9321 - val_loss: 0.2379 - val_accuracy: 0.9002\n",
      "Epoch 47/100\n",
      " - 0s - loss: 0.1730 - accuracy: 0.9297 - val_loss: 0.2369 - val_accuracy: 0.8965\n",
      "Epoch 48/100\n",
      " - 0s - loss: 0.1752 - accuracy: 0.9328 - val_loss: 0.2350 - val_accuracy: 0.8965\n",
      "Epoch 49/100\n",
      " - 0s - loss: 0.1668 - accuracy: 0.9383 - val_loss: 0.2376 - val_accuracy: 0.8983\n",
      "Epoch 50/100\n",
      " - 0s - loss: 0.1697 - accuracy: 0.9352 - val_loss: 0.2370 - val_accuracy: 0.9039\n",
      "Epoch 51/100\n",
      " - 0s - loss: 0.1691 - accuracy: 0.9352 - val_loss: 0.2393 - val_accuracy: 0.9039\n",
      "Epoch 52/100\n",
      " - 0s - loss: 0.1662 - accuracy: 0.9352 - val_loss: 0.2359 - val_accuracy: 0.9002\n",
      "Epoch 53/100\n",
      " - 0s - loss: 0.1700 - accuracy: 0.9297 - val_loss: 0.2367 - val_accuracy: 0.9002\n",
      "Epoch 54/100\n",
      " - 0s - loss: 0.1638 - accuracy: 0.9389 - val_loss: 0.2336 - val_accuracy: 0.9020\n",
      "Epoch 55/100\n",
      " - 0s - loss: 0.1616 - accuracy: 0.9377 - val_loss: 0.2345 - val_accuracy: 0.9002\n",
      "Epoch 56/100\n",
      " - 0s - loss: 0.1673 - accuracy: 0.9377 - val_loss: 0.2337 - val_accuracy: 0.9002\n",
      "Epoch 57/100\n",
      " - 0s - loss: 0.1671 - accuracy: 0.9445 - val_loss: 0.2342 - val_accuracy: 0.9002\n",
      "Epoch 58/100\n",
      " - 0s - loss: 0.1598 - accuracy: 0.9389 - val_loss: 0.2342 - val_accuracy: 0.8965\n",
      "Epoch 59/100\n",
      " - 0s - loss: 0.1652 - accuracy: 0.9352 - val_loss: 0.2335 - val_accuracy: 0.9057\n",
      "Epoch 60/100\n",
      " - 0s - loss: 0.1650 - accuracy: 0.9365 - val_loss: 0.2328 - val_accuracy: 0.9039\n",
      "Epoch 61/100\n",
      " - 0s - loss: 0.1687 - accuracy: 0.9328 - val_loss: 0.2344 - val_accuracy: 0.9020\n",
      "Epoch 62/100\n",
      " - 0s - loss: 0.1694 - accuracy: 0.9377 - val_loss: 0.2313 - val_accuracy: 0.9002\n",
      "Epoch 63/100\n",
      " - 0s - loss: 0.1637 - accuracy: 0.9371 - val_loss: 0.2286 - val_accuracy: 0.9002\n",
      "Epoch 64/100\n",
      " - 0s - loss: 0.1607 - accuracy: 0.9352 - val_loss: 0.2320 - val_accuracy: 0.9020\n",
      "Epoch 65/100\n",
      " - 0s - loss: 0.1641 - accuracy: 0.9352 - val_loss: 0.2305 - val_accuracy: 0.9002\n",
      "Epoch 66/100\n",
      " - 0s - loss: 0.1601 - accuracy: 0.9402 - val_loss: 0.2275 - val_accuracy: 0.9020\n",
      "Epoch 67/100\n",
      " - 0s - loss: 0.1590 - accuracy: 0.9383 - val_loss: 0.2298 - val_accuracy: 0.9020\n",
      "Epoch 68/100\n",
      " - 0s - loss: 0.1555 - accuracy: 0.9420 - val_loss: 0.2242 - val_accuracy: 0.9057\n",
      "Epoch 69/100\n",
      " - 0s - loss: 0.1639 - accuracy: 0.9389 - val_loss: 0.2278 - val_accuracy: 0.9020\n",
      "Epoch 70/100\n",
      " - 0s - loss: 0.1620 - accuracy: 0.9365 - val_loss: 0.2257 - val_accuracy: 0.9020\n",
      "Epoch 71/100\n",
      " - 0s - loss: 0.1632 - accuracy: 0.9389 - val_loss: 0.2258 - val_accuracy: 0.9020\n",
      "Epoch 72/100\n",
      " - 0s - loss: 0.1658 - accuracy: 0.9328 - val_loss: 0.2243 - val_accuracy: 0.9020\n",
      "Epoch 73/100\n",
      " - 0s - loss: 0.1547 - accuracy: 0.9463 - val_loss: 0.2261 - val_accuracy: 0.9057\n",
      "Epoch 74/100\n",
      " - 0s - loss: 0.1572 - accuracy: 0.9420 - val_loss: 0.2263 - val_accuracy: 0.9020\n",
      "Epoch 75/100\n",
      " - 0s - loss: 0.1600 - accuracy: 0.9389 - val_loss: 0.2245 - val_accuracy: 0.9039\n",
      "Epoch 76/100\n",
      " - 0s - loss: 0.1538 - accuracy: 0.9414 - val_loss: 0.2279 - val_accuracy: 0.9039\n",
      "Epoch 77/100\n",
      " - 0s - loss: 0.1567 - accuracy: 0.9389 - val_loss: 0.2267 - val_accuracy: 0.9020\n",
      "Epoch 78/100\n",
      " - 0s - loss: 0.1551 - accuracy: 0.9432 - val_loss: 0.2290 - val_accuracy: 0.9020\n",
      "Epoch 79/100\n",
      " - 0s - loss: 0.1545 - accuracy: 0.9377 - val_loss: 0.2252 - val_accuracy: 0.9039\n",
      "Epoch 80/100\n",
      " - 0s - loss: 0.1588 - accuracy: 0.9377 - val_loss: 0.2251 - val_accuracy: 0.9020\n",
      "Epoch 81/100\n",
      " - 0s - loss: 0.1590 - accuracy: 0.9340 - val_loss: 0.2217 - val_accuracy: 0.9020\n",
      "Epoch 82/100\n",
      " - 0s - loss: 0.1589 - accuracy: 0.9402 - val_loss: 0.2244 - val_accuracy: 0.9020\n",
      "Epoch 83/100\n",
      " - 0s - loss: 0.1579 - accuracy: 0.9358 - val_loss: 0.2219 - val_accuracy: 0.9020\n",
      "Epoch 84/100\n",
      " - 0s - loss: 0.1618 - accuracy: 0.9371 - val_loss: 0.2228 - val_accuracy: 0.9020\n",
      "Epoch 85/100\n",
      " - 0s - loss: 0.1539 - accuracy: 0.9365 - val_loss: 0.2216 - val_accuracy: 0.9020\n",
      "Epoch 86/100\n",
      " - 0s - loss: 0.1585 - accuracy: 0.9377 - val_loss: 0.2215 - val_accuracy: 0.9057\n"
     ]
    },
    {
     "name": "stdout",
     "output_type": "stream",
     "text": [
      "Epoch 87/100\n",
      " - 0s - loss: 0.1506 - accuracy: 0.9414 - val_loss: 0.2194 - val_accuracy: 0.9039\n",
      "Epoch 88/100\n",
      " - 0s - loss: 0.1533 - accuracy: 0.9420 - val_loss: 0.2196 - val_accuracy: 0.9057\n",
      "Epoch 89/100\n",
      " - 0s - loss: 0.1532 - accuracy: 0.9432 - val_loss: 0.2206 - val_accuracy: 0.9057\n",
      "Epoch 90/100\n",
      " - 0s - loss: 0.1509 - accuracy: 0.9420 - val_loss: 0.2198 - val_accuracy: 0.9057\n",
      "Epoch 91/100\n",
      " - 0s - loss: 0.1509 - accuracy: 0.9402 - val_loss: 0.2212 - val_accuracy: 0.9002\n",
      "Epoch 92/100\n",
      " - 0s - loss: 0.1484 - accuracy: 0.9463 - val_loss: 0.2228 - val_accuracy: 0.9057\n",
      "Epoch 93/100\n",
      " - 0s - loss: 0.1494 - accuracy: 0.9408 - val_loss: 0.2221 - val_accuracy: 0.9076\n",
      "Epoch 94/100\n",
      " - 0s - loss: 0.1501 - accuracy: 0.9408 - val_loss: 0.2197 - val_accuracy: 0.9002\n",
      "Epoch 95/100\n",
      " - 0s - loss: 0.1487 - accuracy: 0.9389 - val_loss: 0.2192 - val_accuracy: 0.9002\n",
      "Epoch 96/100\n",
      " - 0s - loss: 0.1555 - accuracy: 0.9408 - val_loss: 0.2192 - val_accuracy: 0.9002\n",
      "Epoch 97/100\n",
      " - 0s - loss: 0.1528 - accuracy: 0.9439 - val_loss: 0.2196 - val_accuracy: 0.9039\n",
      "Epoch 98/100\n",
      " - 0s - loss: 0.1490 - accuracy: 0.9402 - val_loss: 0.2214 - val_accuracy: 0.9057\n",
      "Epoch 99/100\n",
      " - 0s - loss: 0.1530 - accuracy: 0.9432 - val_loss: 0.2188 - val_accuracy: 0.9057\n",
      "Epoch 100/100\n",
      " - 0s - loss: 0.1560 - accuracy: 0.9395 - val_loss: 0.2169 - val_accuracy: 0.9057\n"
     ]
    }
   ],
   "source": [
    "X_train_scaled_cnn = X_train_scaled.reshape(X_train_scaled.shape[0], X_train_scaled.shape[1], 1)\n",
    "X_val_scaled_cnn = X_val_scaled.reshape(X_val_scaled.shape[0], X_val_scaled.shape[1], 1)\n",
    "\n",
    "history_cnn = model_cnn.fit(X_train_scaled_cnn, y_train,\n",
    "          batch_size= 32, validation_data= [X_val_scaled_cnn, y_val],\n",
    "          epochs=100, verbose=2)"
   ]
  },
  {
   "cell_type": "code",
   "execution_count": 166,
   "metadata": {},
   "outputs": [
    {
     "data": {
      "image/png": "[encoded data removed]",
      "text/plain": [
       "<Figure size 720x360 with 2 Axes>"
      ]
     },
     "metadata": {
      "needs_background": "light"
     },
     "output_type": "display_data"
    }
   ],
   "source": [
    "fig, [ax1, ax2] = plt.subplots(nrows= 1, ncols= 2, figsize = (10, 5))\n",
    "ax1.plot(history_cnn.history['accuracy'], label = 'Training')\n",
    "ax1.plot(history_cnn.history['val_accuracy'], label = 'Validation')\n",
    "ax1.set_title('model accuracy')\n",
    "ax1.set_xlabel('Epoch')\n",
    "ax1.set_ylabel('Accuracy')\n",
    "ax2.plot(history_cnn.history['loss'], label = 'Training')\n",
    "ax2.plot(history_cnn.history['val_loss'], label = 'Validation')\n",
    "ax2.set_title('Model loss')\n",
    "ax2.set_xlabel('Epoch')\n",
    "ax2.set_ylabel('Loss')\n",
    "plt.legend()\n",
    "plt.tight_layout()\n",
    "plt.show()"
   ]
  },
  {
   "cell_type": "markdown",
   "metadata": {},
   "source": [
    "**Since the loss is not oscilating and always descending, more epochs can actually improve the model performance. Also, early stopping can be used to obtain the bet model among all the epochs.**"
   ]
  },
  {
   "cell_type": "code",
   "execution_count": 167,
   "metadata": {},
   "outputs": [
    {
     "name": "stdout",
     "output_type": "stream",
     "text": [
      "The accuracy of CNN on the test data (MFCC mean + std) is: \n",
      " 0.88909426987061\n",
      "=======================================================================================\n",
      "Classification Report for CNN: \n",
      "               precision    recall  f1-score   support\n",
      "\n",
      "           0       0.87      0.91      0.89       266\n",
      "           1       0.91      0.87      0.89       275\n",
      "\n",
      "    accuracy                           0.89       541\n",
      "   macro avg       0.89      0.89      0.89       541\n",
      "weighted avg       0.89      0.89      0.89       541\n",
      "\n"
     ]
    }
   ],
   "source": [
    "X_test_scaled_cnn = X_test_scaled.reshape(X_test_scaled.shape[0], X_test_scaled.shape[1], 1)\n",
    "y_pred_cnn = model_cnn.predict_classes(X_test_scaled_cnn)\n",
    "test_score_cnn = accuracy_score(y_test, y_pred_cnn)\n",
    "print(f'The accuracy of CNN on the test data (MFCC mean + std) is: \\n {test_score_cnn}')\n",
    "print('=======================================================================================')\n",
    "print('Classification Report for CNN: \\n',\n",
    "      classification_report(y_test, y_pred_cnn))"
   ]
  },
  {
   "cell_type": "markdown",
   "metadata": {},
   "source": [
    "**RESULTS TABLE**\n",
    "\n",
    "| Model | Test Accuracy |\n",
    "|-------|----------|\n",
    "| k-Nearest Neighbor   | 0.9445   |\n",
    "| Naive bayes   | 0.8272  |\n",
    "| Random Forest  | 0.9048  |\n",
    "| Feed forward NN  | 0.9408  |\n",
    "| Convolutional NN | 0.8891  |\n",
    "\n",
    "\n",
    "From this table, we can see that KNN performs better in accuracy and Naive Bayes produces the worst accuracy.\n"
   ]
  },
  {
   "cell_type": "markdown",
   "metadata": {},
   "source": [
    "# CONCLUSION"
   ]
  },
  {
   "cell_type": "markdown",
   "metadata": {},
   "source": [
    "The major highlight of this work is the feature engineering. And the major results are:\n",
    "- By selecting only the first 6 MFCC features and contenating theirs means and standard deviation, we derive a feature with which we can classify gender speaches effectively, based on the data used for this study.\n",
    "- The feature engineering used in this task, which reduces the dimensionality of the data by a lot, is able to achieve high accuracy.\n",
    "- Specifically, the obtained feature is able to achieve 94% accuracy with a simple clasifier such a k-Nearest Neighbor. For the other classifiers (especially neural network), there is the possibility to get better results if rigorous hyperparameter tuning is performed.\n",
    "- Looking at the results presented in the feature importances plot based in Random Forest, it is possible to see that the MFCC features standard deviation are informative. Specifically, the top 3 most informative features are standard deviation features."
   ]
  },
  {
   "cell_type": "markdown",
   "metadata": {},
   "source": [
    "Thanks for this task, even though I was only able to dedicate 7 hours to it, I indeed enjoyed it. Hope I sail through the round and meet you guys soon."
   ]
  },
  {
   "cell_type": "code",
   "execution_count": null,
   "metadata": {},
   "outputs": [],
   "source": []
  }
 ],
 "metadata": {
  "kernelspec": {
   "display_name": "Python 3",
   "language": "python",
   "name": "python3"
  },
  "language_info": {
   "codemirror_mode": {
    "name": "ipython",
    "version": 3
   },
   "file_extension": ".py",
   "mimetype": "text/x-python",
   "name": "python",
   "nbconvert_exporter": "python",
   "pygments_lexer": "ipython3",
   "version": "3.6.9"
  }
 },
 "nbformat": 4,
 "nbformat_minor": 4
}
