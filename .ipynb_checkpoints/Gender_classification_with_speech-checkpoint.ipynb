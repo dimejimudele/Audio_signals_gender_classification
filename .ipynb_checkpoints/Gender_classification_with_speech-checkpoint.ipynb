{
 "cells": [
  {
   "cell_type": "code",
   "execution_count": 1,
   "metadata": {},
   "outputs": [],
   "source": [
    "import pandas as pd\n",
    "import numpy as np\n",
    "import matplotlib.pyplot as plt\n",
    "import os"
   ]
  },
  {
   "cell_type": "markdown",
   "metadata": {},
   "source": [
    "# Load clean data"
   ]
  },
  {
   "cell_type": "code",
   "execution_count": 146,
   "metadata": {},
   "outputs": [],
   "source": [
    "SPEECH_DATA_PATH = 'LibriSpeech/'\n",
    "RANDOM_SEED = 42"
   ]
  },
  {
   "cell_type": "markdown",
   "metadata": {},
   "source": [
    "Load .txt file containing metadata (Speaker ID, "
   ]
  },
  {
   "cell_type": "code",
   "execution_count": 3,
   "metadata": {},
   "outputs": [
    {
     "name": "stderr",
     "output_type": "stream",
     "text": [
      "b'Skipping line 45: expected 5 fields, saw 7\\n'\n"
     ]
    },
    {
     "data": {
      "text/plain": [
       "ID         string\n",
       "SEX        string\n",
       "SUBSET     string\n",
       "MINUTES    string\n",
       "NAME       string\n",
       "dtype: object"
      ]
     },
     "execution_count": 3,
     "metadata": {},
     "output_type": "execute_result"
    }
   ],
   "source": [
    "speakers = pd.read_csv(SPEECH_DATA_PATH + 'SPEAKERS.TXT', comment=';', sep ='|', \n",
    "                       header = None, error_bad_lines=False, dtype ='string')\n",
    "\n",
    "\n",
    "speakers.columns = ['ID', 'SEX', 'SUBSET', 'MINUTES', 'NAME'] #Defines column names\n",
    "\n",
    "\n",
    "\n",
    "speakers.SEX = speakers.SEX.str.strip()\n",
    "speakers.SUBSET = speakers.SUBSET.str.strip()\n",
    "\n",
    "\n",
    "speakers.dtypes"
   ]
  },
  {
   "cell_type": "code",
   "execution_count": 4,
   "metadata": {},
   "outputs": [],
   "source": [
    "speakers['SEX'].replace('M', 0, inplace=True)\n",
    "speakers['SEX'].replace('F', 1, inplace=True)"
   ]
  },
  {
   "cell_type": "code",
   "execution_count": 5,
   "metadata": {},
   "outputs": [
    {
     "data": {
      "text/plain": [
       "ID           int32\n",
       "SEX          int32\n",
       "SUBSET      string\n",
       "MINUTES    float64\n",
       "NAME        string\n",
       "dtype: object"
      ]
     },
     "execution_count": 5,
     "metadata": {},
     "output_type": "execute_result"
    }
   ],
   "source": [
    "speakers = speakers.astype({'MINUTES': 'float64', 'ID': 'int32', 'SEX': 'int32'})\n",
    "#speakers[speakers.columns] = speakers.apply(lambda x: x.str.strip())\n",
    "speakers.dtypes"
   ]
  },
  {
   "cell_type": "code",
   "execution_count": 6,
   "metadata": {},
   "outputs": [
    {
     "data": {
      "text/html": [
       "<div>\n",
       "<style scoped>\n",
       "    .dataframe tbody tr th:only-of-type {\n",
       "        vertical-align: middle;\n",
       "    }\n",
       "\n",
       "    .dataframe tbody tr th {\n",
       "        vertical-align: top;\n",
       "    }\n",
       "\n",
       "    .dataframe thead th {\n",
       "        text-align: right;\n",
       "    }\n",
       "</style>\n",
       "<table border=\"1\" class=\"dataframe\">\n",
       "  <thead>\n",
       "    <tr style=\"text-align: right;\">\n",
       "      <th></th>\n",
       "      <th>ID</th>\n",
       "      <th>SEX</th>\n",
       "      <th>SUBSET</th>\n",
       "      <th>MINUTES</th>\n",
       "      <th>NAME</th>\n",
       "    </tr>\n",
       "  </thead>\n",
       "  <tbody>\n",
       "    <tr>\n",
       "      <th>0</th>\n",
       "      <td>14</td>\n",
       "      <td>1</td>\n",
       "      <td>train-clean-360</td>\n",
       "      <td>25.03</td>\n",
       "      <td>Kristin LeMoine</td>\n",
       "    </tr>\n",
       "    <tr>\n",
       "      <th>1</th>\n",
       "      <td>16</td>\n",
       "      <td>1</td>\n",
       "      <td>train-clean-360</td>\n",
       "      <td>25.11</td>\n",
       "      <td>Alys AtteWater</td>\n",
       "    </tr>\n",
       "    <tr>\n",
       "      <th>2</th>\n",
       "      <td>17</td>\n",
       "      <td>0</td>\n",
       "      <td>train-clean-360</td>\n",
       "      <td>25.04</td>\n",
       "      <td>Gord Mackenzie</td>\n",
       "    </tr>\n",
       "    <tr>\n",
       "      <th>3</th>\n",
       "      <td>19</td>\n",
       "      <td>1</td>\n",
       "      <td>train-clean-100</td>\n",
       "      <td>25.19</td>\n",
       "      <td>Kara Shallenberg</td>\n",
       "    </tr>\n",
       "    <tr>\n",
       "      <th>4</th>\n",
       "      <td>20</td>\n",
       "      <td>1</td>\n",
       "      <td>train-other-500</td>\n",
       "      <td>30.07</td>\n",
       "      <td>Gesine</td>\n",
       "    </tr>\n",
       "    <tr>\n",
       "      <th>5</th>\n",
       "      <td>22</td>\n",
       "      <td>1</td>\n",
       "      <td>train-clean-360</td>\n",
       "      <td>25.14</td>\n",
       "      <td>Michelle Crandall</td>\n",
       "    </tr>\n",
       "    <tr>\n",
       "      <th>6</th>\n",
       "      <td>23</td>\n",
       "      <td>1</td>\n",
       "      <td>train-clean-360</td>\n",
       "      <td>25.23</td>\n",
       "      <td>Anita Roy Dobbs</td>\n",
       "    </tr>\n",
       "    <tr>\n",
       "      <th>7</th>\n",
       "      <td>25</td>\n",
       "      <td>0</td>\n",
       "      <td>train-other-500</td>\n",
       "      <td>30.16</td>\n",
       "      <td>John Gonzalez</td>\n",
       "    </tr>\n",
       "    <tr>\n",
       "      <th>8</th>\n",
       "      <td>26</td>\n",
       "      <td>0</td>\n",
       "      <td>train-clean-100</td>\n",
       "      <td>25.08</td>\n",
       "      <td>Denny Sayers</td>\n",
       "    </tr>\n",
       "    <tr>\n",
       "      <th>9</th>\n",
       "      <td>27</td>\n",
       "      <td>0</td>\n",
       "      <td>train-clean-100</td>\n",
       "      <td>20.14</td>\n",
       "      <td>Sean McKinley</td>\n",
       "    </tr>\n",
       "  </tbody>\n",
       "</table>\n",
       "</div>"
      ],
      "text/plain": [
       "   ID  SEX           SUBSET  MINUTES                NAME\n",
       "0  14    1  train-clean-360    25.03     Kristin LeMoine\n",
       "1  16    1  train-clean-360    25.11      Alys AtteWater\n",
       "2  17    0  train-clean-360    25.04      Gord Mackenzie\n",
       "3  19    1  train-clean-100    25.19    Kara Shallenberg\n",
       "4  20    1  train-other-500    30.07              Gesine\n",
       "5  22    1  train-clean-360    25.14   Michelle Crandall\n",
       "6  23    1  train-clean-360    25.23     Anita Roy Dobbs\n",
       "7  25    0  train-other-500    30.16       John Gonzalez\n",
       "8  26    0  train-clean-100    25.08        Denny Sayers\n",
       "9  27    0  train-clean-100    20.14       Sean McKinley"
      ]
     },
     "execution_count": 6,
     "metadata": {},
     "output_type": "execute_result"
    }
   ],
   "source": [
    "speakers.head(10)"
   ]
  },
  {
   "cell_type": "code",
   "execution_count": 7,
   "metadata": {},
   "outputs": [
    {
     "name": "stdout",
     "output_type": "stream",
     "text": [
      "The whole data has 2483 rows and 5 columns\n"
     ]
    }
   ],
   "source": [
    "print(f'The whole data has {speakers.shape[0]} rows and {speakers.shape[1]} columns' )"
   ]
  },
  {
   "cell_type": "markdown",
   "metadata": {},
   "source": [
    "###### Training and val set = train-clean-100\n",
    "###### Test set = test-clean\n",
    "###### Development set) = dev-other\n"
   ]
  },
  {
   "cell_type": "code",
   "execution_count": 8,
   "metadata": {},
   "outputs": [
    {
     "name": "stdout",
     "output_type": "stream",
     "text": [
      "Total amount of training data is: 40\n",
      " Number of MALES in full training data is:  20\n",
      " Number of FEMALES in full training data is:  20\n"
     ]
    }
   ],
   "source": [
    "subset_length = 20     # 20 per gender\n",
    "subset_speakers = speakers[speakers.SUBSET == 'dev-clean']\n",
    "subset_speakers = subset_speakers.groupby('SEX', group_keys=False).apply(lambda x: x.sample(subset_length)).reset_index(drop =True)\n",
    "print(f'Total amount of training data is: {subset_speakers.shape[0]}')\n",
    "print(f' Number of MALES in full training data is: ', subset_speakers[subset_speakers.SEX == 0].shape[0])\n",
    "print(f' Number of FEMALES in full training data is: ', subset_speakers[subset_speakers.SEX == 1].shape[0])\n",
    "                                                                      "
   ]
  },
  {
   "cell_type": "markdown",
   "metadata": {},
   "source": [
    "test_speakers = speakers[speakers.SUBSET == 'test-clean'].reset_index(drop =True)\n",
    "print(f'Total amount of test data is: {test_speakers.shape[0]}')\n",
    "print(f' Number of MALES in full test data is: ', test_speakers[test_speakers.SEX == 0].shape[0])\n",
    "print(f' Number of FEMALES in full test data is: ', test_speakers[test_speakers.SEX == 1].shape[0])\n"
   ]
  },
  {
   "cell_type": "markdown",
   "metadata": {},
   "source": [
    "dev_speakers = speakers[speakers.SUBSET == 'dev-other'].reset_index(drop =True)\n",
    "print(f'Total amount of test data is: {dev_speakers.shape[0]}')\n",
    "print(f' Number of MALES in full test data is: ', dev_speakers[dev_speakers.SEX == 0].shape[0])\n",
    "print(f' Number of FEMALES in full test data is: ', dev_speakers[dev_speakers.SEX == 1].shape[0])"
   ]
  },
  {
   "cell_type": "code",
   "execution_count": 9,
   "metadata": {},
   "outputs": [
    {
     "data": {
      "image/png": "[encoded data removed]",
      "text/plain": [
       "<Figure size 432x288 with 1 Axes>"
      ]
     },
     "metadata": {
      "needs_background": "light"
     },
     "output_type": "display_data"
    }
   ],
   "source": [
    "#np.random.seed(RANDOM_SEED)\n",
    "\n",
    "sex_plot = ['Male', 'Famale']\n",
    "minuites_per_gender = [subset_speakers[subset_speakers.SEX==0].MINUTES.sum(),\n",
    "                       subset_speakers[subset_speakers.SEX==1].MINUTES.sum()]\n",
    "\n",
    "\n",
    "\n",
    "plt.bar(sex_plot , minuites_per_gender )\n",
    "plt.title('Number of minutes per gender in training data')\n",
    "plt.ylabel('Minutes')\n",
    "plt.show()"
   ]
  },
  {
   "cell_type": "markdown",
   "metadata": {},
   "source": [
    "##### Select only 'ID' and 'SEX' columns for further processes"
   ]
  },
  {
   "cell_type": "code",
   "execution_count": 10,
   "metadata": {},
   "outputs": [],
   "source": [
    "subset_speakers = subset_speakers[['ID','SEX']]"
   ]
  },
  {
   "cell_type": "markdown",
   "metadata": {},
   "source": [
    "Select two audio files each for male and female and visualize their raw and MFCC spectra. For Male I selected speaker IDs: **3000 (Male 1), 6295 (Male 2)**. For females, I selected Speaker IDs: ***2035 (Female 1), 6319 (Female 2)***. This is an insufficient amount of sample but the idea here is to check the data and see if there are visible features that seperate the two classes in both time and frequency (MFCC) domain."
   ]
  },
  {
   "cell_type": "code",
   "execution_count": 11,
   "metadata": {},
   "outputs": [],
   "source": [
    "import librosa\n",
    "\n",
    "no_of_mfcc_features = 14 #https://ieeexplore.ieee.org/document/647282"
   ]
  },
  {
   "cell_type": "code",
   "execution_count": 12,
   "metadata": {},
   "outputs": [
    {
     "name": "stdout",
     "output_type": "stream",
     "text": [
      "Shape of the MFCC feature for Samle Male 1 is:  (14, 135)\n",
      "Shape of the MFCC feature for Samle Male 2 is:  (14, 761)\n"
     ]
    }
   ],
   "source": [
    "sample_male1_file_path = SPEECH_DATA_PATH + '/dev-clean/3000/15664/3000-15664-0000.flac'\n",
    "male1_audio, sr = librosa.load(sample_male1_file_path ,mono= True)\n",
    "male1_audio_mfcc_feature = librosa.feature.mfcc(male1_audio, n_mfcc= no_of_mfcc_features)\n",
    "\n",
    "sample_male2_file_path = SPEECH_DATA_PATH + '/dev-clean/6295/64301/6295-64301-0000.flac'\n",
    "male2_audio, sr = librosa.load(sample_male2_file_path ,mono= True)\n",
    "male2_audio_mfcc_feature = librosa.feature.mfcc(male2_audio, n_mfcc= no_of_mfcc_features)\n",
    "\n",
    "print('Shape of the MFCC feature for Samle Male 1 is: ', male1_audio_mfcc_feature.shape)\n",
    "print('Shape of the MFCC feature for Samle Male 2 is: ', male2_audio_mfcc_feature.shape)"
   ]
  },
  {
   "cell_type": "code",
   "execution_count": 13,
   "metadata": {},
   "outputs": [
    {
     "data": {
      "image/png": "[encoded data removed]",
      "text/plain": [
       "<Figure size 432x288 with 4 Axes>"
      ]
     },
     "metadata": {
      "needs_background": "light"
     },
     "output_type": "display_data"
    }
   ],
   "source": [
    "fig, axes = plt.subplots(nrows = 2, ncols = 2)\n",
    "ax1, ax2, ax3, ax4 = axes.flatten()\n",
    "\n",
    "ax1.plot(male1_audio)\n",
    "ax1.set_title(\"Male 1\")\n",
    "ax2.imshow(male1_audio_mfcc_feature, interpolation='nearest', aspect='auto')\n",
    "ax3.plot(male2_audio)\n",
    "ax3.set_title(\"Male 2\")\n",
    "ax4.imshow(male2_audio_mfcc_feature, interpolation='nearest', aspect='auto')\n",
    "plt.tight_layout()"
   ]
  },
  {
   "cell_type": "code",
   "execution_count": 14,
   "metadata": {},
   "outputs": [
    {
     "name": "stdout",
     "output_type": "stream",
     "text": [
      "Shape of the MFCC feature for Samle Female 1 is:  (14, 389)\n",
      "Shape of the MFCC feature for Samle Female 2 is:  (14, 315)\n"
     ]
    }
   ],
   "source": [
    "sample_female1_file_path = SPEECH_DATA_PATH + '/dev-clean/2035/147960/2035-147960-0000.flac'\n",
    "female1_audio, sr = librosa.load(sample_female1_file_path ,mono= True)\n",
    "female1_audio_mfcc_feature = librosa.feature.mfcc(female1_audio, n_mfcc= no_of_mfcc_features)\n",
    "\n",
    "sample_female2_file_path = SPEECH_DATA_PATH + '/dev-clean/6319/57405/6319-57405-0000.flac'\n",
    "female2_audio, sr = librosa.load(sample_female2_file_path ,mono= True)\n",
    "female2_audio_mfcc_feature = librosa.feature.mfcc(female2_audio, n_mfcc= no_of_mfcc_features)\n",
    "\n",
    "print('Shape of the MFCC feature for Samle Female 1 is: ', female1_audio_mfcc_feature.shape)\n",
    "print('Shape of the MFCC feature for Samle Female 2 is: ', female2_audio_mfcc_feature.shape)"
   ]
  },
  {
   "cell_type": "code",
   "execution_count": 15,
   "metadata": {},
   "outputs": [
    {
     "data": {
      "image/png": "[encoded data removed]",
      "text/plain": [
       "<Figure size 432x288 with 4 Axes>"
      ]
     },
     "metadata": {
      "needs_background": "light"
     },
     "output_type": "display_data"
    }
   ],
   "source": [
    "fig, axes = plt.subplots(nrows = 2, ncols = 2)\n",
    "ax1, ax2, ax3, ax4 = axes.flatten()\n",
    "\n",
    "ax1.plot(female1_audio)\n",
    "ax1.set_title(\"Female 1\")\n",
    "ax2.imshow(female1_audio_mfcc_feature, interpolation='nearest', aspect='auto')\n",
    "ax3.plot(female2_audio)\n",
    "ax3.set_title(\"Female 2\")\n",
    "ax4.imshow(female2_audio_mfcc_feature, interpolation='nearest', aspect='auto')\n",
    "plt.tight_layout()"
   ]
  },
  {
   "cell_type": "markdown",
   "metadata": {},
   "source": [
    "The following points, are noted:\n",
    "    - The first 6 MFCC features (0 - 5) capture the most variability, and thus might be sufficient for the task, especially since the goal is not accuracy.\n",
    "    - There are no visual differences across gender based on the frames visualised.\n",
    "    - The features are on of the same size for different audio files because the duration of the files are the equal. Since a typical machine learning model requires a defines inout size, there is the need to resample the data in such a way that all resulting features are equal. There are a few ways to go about this, each one with its own advantages. Some of the possible approaches are: \n",
    "        - cropping (useful if we know, for sure, the high density time reion in most of the audio files)\n",
    "        - Truncation: can lead to sparsity if many files have cold start (i.e sparsity at the beginning)\n",
    "        - Zero padding: works best when the difference sizes is not large. In cases where some frames are twice as long as others, this can lead to sparsity in certain padded features.\n",
    "        - Central tendencies, in this case mean and standard deviotion. The demerit of this approach is that it is sensitive to effects of the lenght of each audio frame. Longer frames have the dendency for higher standard deviation due to longer lenght. Also, this approach summarizes the data and discards a lot of information"
   ]
  },
  {
   "cell_type": "code",
   "execution_count": 47,
   "metadata": {},
   "outputs": [],
   "source": [
    "import librosa\n",
    "\n",
    "no_of_mfcc_features = 6 #https://ieeexplore.ieee.org/document/647282\n",
    "\n",
    "def compute_MFCC(file, num_of_features, sampling_rate = 22050):\n",
    "\n",
    "    \"\"\"\n",
    "    Input\n",
    "    ----------------------------------\n",
    "    filename: audio file name + directory pointer\n",
    "    sr : time domain samplinf rate \n",
    "    num_of_features: number of MFCC features to compute\n",
    "    \n",
    "    \n",
    "    \"\"\"\n",
    "    raw_audio, sr = librosa.load(file ,sr= sampling_rate, mono= True)\n",
    "    mfcc_feature = librosa.feature.mfcc(raw_audio ,sr= sampling_rate, n_mfcc= num_of_features)\n",
    "    mfcc_mean = np.mean(mfcc_feature, axis=1)#.reshape(1,-1)\n",
    "    mfcc_std = np.std(mfcc_feature, axis=1)#.reshape(1,-1) #mean of frame coefficients\n",
    "    return mfcc_mean.tolist(), mfcc_std.tolist()\n"
   ]
  },
  {
   "cell_type": "code",
   "execution_count": 58,
   "metadata": {},
   "outputs": [],
   "source": [
    "from tqdm import tqdm\n",
    "\n",
    "try:\n",
    "    extracted_data = pd.read_csv('all_features.csv')\n",
    "except IOError:\n",
    "    all_features = []\n",
    "    sex = []\n",
    "    for _, row in subset_speakers.iterrows():\n",
    "        for root, dirs, files in tqdm(os.walk(SPEECH_DATA_PATH + 'dev-clean/' + str(row.ID))):\n",
    "            for name in files:\n",
    "                if name.endswith(('.flac')):\n",
    "                    filename = os.path.join(root, name)\n",
    "                    mfcc_features_mean, mfcc_features_std = compute_MFCC(filename, no_of_mfcc_features)\n",
    "                    combined_features = [*mfcc_features_mean, *mfcc_features_std]\n",
    "                    all_features.append(combined_features)\n",
    "                    sex.append(row.SEX)\n",
    "    print('The lenght of the gender list is', len(sex))\n",
    "    print('The number of feature rows extracted for all data is', len(all_features))\n",
    "    extracted_data = pd.DataFrame(all_features)\n",
    "    extracted_data['SEX'] =  sex\n",
    "    extracted_data.to_csv('all_features.csv')\n",
    "      "
   ]
  },
  {
   "cell_type": "code",
   "execution_count": 60,
   "metadata": {},
   "outputs": [],
   "source": [
    "sex_class = np.array(extracted_data.SEX)\n",
    "extracted_data = extracted_data.drop('SEX',axis=1)\n",
    "extracted_data = extracted_data.to_numpy()"
   ]
  },
  {
   "cell_type": "code",
   "execution_count": 61,
   "metadata": {},
   "outputs": [],
   "source": [
    "from sklearn.preprocessing import StandardScaler\n",
    "from sklearn.metrics import accuracy_score\n",
    "from sklearn.metrics import classification_report"
   ]
  },
  {
   "cell_type": "markdown",
   "metadata": {},
   "source": [
    "##### Split data into 60% training, 40% test (20% validation, 20% test for neural network)"
   ]
  },
  {
   "cell_type": "code",
   "execution_count": 95,
   "metadata": {},
   "outputs": [],
   "source": [
    "from sklearn.model_selection import train_test_split\n",
    "\n",
    "X_train, X_val_test, y_train, y_val_test = train_test_split(all_features, sex_class, test_size=0.4, \n",
    "                                                            random_state=RANDOM_SEED, stratify=sex_class)\n",
    "\n",
    "\n",
    "#Scaling data\n",
    "scalar = StandardScaler()\n",
    "scalar = scalar.fit(X_train)\n",
    "X_train_scaled = scalar.transform(X_train)\n",
    "X_val_test_scaled = scalar.transform(X_val_test)"
   ]
  },
  {
   "cell_type": "markdown",
   "metadata": {},
   "source": [
    "Create Validation and Test data for neural network"
   ]
  },
  {
   "cell_type": "code",
   "execution_count": 100,
   "metadata": {},
   "outputs": [],
   "source": [
    "X_val, X_test, y_val, y_test = train_test_split(X_val_test, y_val_test, test_size=0.5, \n",
    "                                                            random_state=RANDOM_SEED, stratify=y_val_test)\n",
    "#Scaling data\n",
    "X_val_scaled = scalar.transform(X_val)\n",
    "X_test_scaled = scalar.transform(X_test)"
   ]
  },
  {
   "cell_type": "markdown",
   "metadata": {},
   "source": [
    "In the cell bellow, I have created a feature that contains only the means of the MFCC features in other to cheak the effect of incldinCheck the need for standard deviation information by creating training and test data with ouly 'mean' of the MFCC features (columns 1 - 6)"
   ]
  },
  {
   "cell_type": "code",
   "execution_count": 101,
   "metadata": {},
   "outputs": [],
   "source": [
    "X_train_scaled_means = X_train_scaled[:, :6]\n",
    "X_val_test_scaled_means = X_val_test_scaled[:, :6]"
   ]
  },
  {
   "cell_type": "code",
   "execution_count": 102,
   "metadata": {},
   "outputs": [],
   "source": [
    "from sklearn.neighbors import KNeighborsClassifier"
   ]
  },
  {
   "cell_type": "code",
   "execution_count": 103,
   "metadata": {},
   "outputs": [
    {
     "data": {
      "text/plain": [
       "KNeighborsClassifier(algorithm='auto', leaf_size=30, metric='minkowski',\n",
       "                     metric_params=None, n_jobs=None, n_neighbors=10, p=2,\n",
       "                     weights='uniform')"
      ]
     },
     "execution_count": 103,
     "metadata": {},
     "output_type": "execute_result"
    }
   ],
   "source": [
    "knn = KNeighborsClassifier(n_neighbors=10)\n",
    "\n",
    "knn.fit(X_train_scaled, y_train)"
   ]
  },
  {
   "cell_type": "code",
   "execution_count": 106,
   "metadata": {},
   "outputs": [
    {
     "name": "stdout",
     "output_type": "stream",
     "text": [
      "The accuracy of K nearest neighbor on the test data (MFCC mean + std) is: \n",
      " 0.944547134935305\n"
     ]
    }
   ],
   "source": [
    "y_pred_full_knn = knn.predict(X_val_test_scaled)\n",
    "test_score_knn = accuracy_score(y_val_test, y_pred_full_knn)\n",
    "\n",
    "\n",
    "print(f'The accuracy of K nearest neighbor on the test data (MFCC mean + std) is: \\n {test_score_knn}')"
   ]
  },
  {
   "cell_type": "code",
   "execution_count": 108,
   "metadata": {},
   "outputs": [
    {
     "name": "stdout",
     "output_type": "stream",
     "text": [
      "The accuracy of K nearest neighbor on the test data (only MFCC mean) is: \n",
      " 0.8567467652495379\n"
     ]
    }
   ],
   "source": [
    "knn.fit(X_train_scaled_means, y_train)\n",
    "\n",
    "y_pred_means_knn = knn.predict(X_val_test_scaled_means)\n",
    "test_score_knn = accuracy_score(y_val_test, y_pred_means_knn)\n",
    "\n",
    "\n",
    "print(f'The accuracy of K nearest neighbor on the test data (only MFCC mean) is: \\n {test_score_knn}')"
   ]
  },
  {
   "cell_type": "code",
   "execution_count": 113,
   "metadata": {},
   "outputs": [
    {
     "data": {
      "image/png": "[encoded data removed]",
      "text/plain": [
       "<Figure size 432x288 with 1 Axes>"
      ]
     },
     "metadata": {
      "needs_background": "light"
     },
     "output_type": "display_data"
    }
   ],
   "source": [
    "plt.bar(['mean + std', 'mean only'], [0.944547134935305, 0.8567467652495379] )\n",
    "plt.ylabel('Accuracy score')\n",
    "plt.xlabel('MFCC features')\n",
    "plt.show()"
   ]
  },
  {
   "cell_type": "code",
   "execution_count": 114,
   "metadata": {},
   "outputs": [
    {
     "name": "stdout",
     "output_type": "stream",
     "text": [
      "Classification Report for K-nearest neighbor classifier with k = 10: \n",
      "               precision    recall  f1-score   support\n",
      "\n",
      "           0       0.92      0.97      0.94       532\n",
      "           1       0.97      0.92      0.94       550\n",
      "\n",
      "    accuracy                           0.94      1082\n",
      "   macro avg       0.95      0.94      0.94      1082\n",
      "weighted avg       0.95      0.94      0.94      1082\n",
      "\n"
     ]
    }
   ],
   "source": [
    "print('Classification Report for K-nearest neighbor classifier with k = 10: \\n',\n",
    "      classification_report(y_val_test, y_pred_full_knn))"
   ]
  },
  {
   "cell_type": "markdown",
   "metadata": {},
   "source": [
    "From the plot shown above, we can see that the variability of the MFCC features captured in the standard deviation is informative enough to improve the classification accuracy by over **10%**. As a result all further tests are conducted using **mean + standard deviation** features."
   ]
  },
  {
   "cell_type": "code",
   "execution_count": 123,
   "metadata": {},
   "outputs": [
    {
     "data": {
      "text/plain": [
       "GaussianNB(priors=None, var_smoothing=1e-09)"
      ]
     },
     "execution_count": 123,
     "metadata": {},
     "output_type": "execute_result"
    }
   ],
   "source": [
    "from sklearn.naive_bayes import GaussianNB\n",
    "\n",
    "gnb = GaussianNB()\n",
    "gnb.fit(X_train_scaled, y_train)\n",
    "\n"
   ]
  },
  {
   "cell_type": "code",
   "execution_count": 159,
   "metadata": {},
   "outputs": [
    {
     "name": "stdout",
     "output_type": "stream",
     "text": [
      "The accuracy of Gaussian Naive Bayes on the test data (MFCC mean + std) is: \n",
      " 0.8271719038817006\n",
      "=======================================================================================\n",
      "Classification Report for Naiva Bayes classifier: \n",
      "               precision    recall  f1-score   support\n",
      "\n",
      "           0       0.81      0.85      0.83       532\n",
      "           1       0.85      0.80      0.83       550\n",
      "\n",
      "    accuracy                           0.83      1082\n",
      "   macro avg       0.83      0.83      0.83      1082\n",
      "weighted avg       0.83      0.83      0.83      1082\n",
      "\n"
     ]
    }
   ],
   "source": [
    "y_pred_gnb = gnb.predict(X_val_test_scaled)\n",
    "test_score_gnb = accuracy_score(y_val_test, y_pred_gnb)\n",
    "print(f'The accuracy of Gaussian Naive Bayes on the test data (MFCC mean + std) is: \\n {test_score_gnb}')\n",
    "print('=======================================================================================')\n",
    "print('Classification Report for Naiva Bayes classifier: \\n',\n",
    "      classification_report(y_val_test, y_pred_gnb))"
   ]
  },
  {
   "cell_type": "code",
   "execution_count": 133,
   "metadata": {},
   "outputs": [
    {
     "name": "stdout",
     "output_type": "stream",
     "text": [
      "(1621, 6)\n"
     ]
    }
   ],
   "source": [
    "print(X_train_scaled[:, :6].shape)"
   ]
  },
  {
   "cell_type": "code",
   "execution_count": 152,
   "metadata": {},
   "outputs": [],
   "source": [
    "from sklearn.pipeline import Pipeline\n",
    "from sklearn.ensemble import RandomForestClassifier\n",
    "from sklearn.model_selection import GridSearchCV\n",
    "\n",
    "rf_pipeline = Pipeline([('rf', RandomForestClassifier())])\n",
    "\n",
    "params = {'rf__n_estimators': [50, 300],\n",
    "        'rf__max_depth': [30, 100],\n",
    "         'rf__random_state': [RANDOM_SEED]}\n"
   ]
  },
  {
   "cell_type": "code",
   "execution_count": 155,
   "metadata": {},
   "outputs": [
    {
     "name": "stdout",
     "output_type": "stream",
     "text": [
      "{'rf__max_depth': 30, 'rf__n_estimators': 300, 'rf__random_state': 42}\n"
     ]
    }
   ],
   "source": [
    "rf_grid_search = GridSearchCV(rf_pipeline, param_grid= params, scoring= 'f1', cv = 3)\n",
    "rf_grid_search.fit(X_train_scaled, y_train)\n",
    "\n",
    "print(rf_grid_search.best_params_)"
   ]
  },
  {
   "cell_type": "code",
   "execution_count": 157,
   "metadata": {},
   "outputs": [
    {
     "name": "stdout",
     "output_type": "stream",
     "text": [
      "The accuracy of RF on the test data (MFCC mean + std) is: \n",
      " 0.9048059149722736\n",
      "=======================================================================================\n",
      "Classification Report for Random Forest: \n",
      "               precision    recall  f1-score   support\n",
      "\n",
      "           0       0.88      0.93      0.91       532\n",
      "           1       0.93      0.88      0.90       550\n",
      "\n",
      "    accuracy                           0.90      1082\n",
      "   macro avg       0.91      0.91      0.90      1082\n",
      "weighted avg       0.91      0.90      0.90      1082\n",
      "\n"
     ]
    }
   ],
   "source": [
    "y_pred_rf = rf_grid_search.predict(X_val_test_scaled)\n",
    "test_score_rf = accuracy_score(y_val_test, y_pred_rf)\n",
    "print(f'The accuracy of RF on the test data (MFCC mean + std) is: \\n {test_score_rf}')\n",
    "print('=======================================================================================')\n",
    "print('Classification Report for Random Forest: \\n',\n",
    "      classification_report(y_val_test, y_pred_rf))"
   ]
  },
  {
   "cell_type": "code",
   "execution_count": 181,
   "metadata": {},
   "outputs": [
    {
     "name": "stdout",
     "output_type": "stream",
     "text": [
      "[0.03751253 0.10321201 0.08274438 0.05098447 0.05101992 0.04330873\n",
      " 0.14166986 0.19293198 0.06465183 0.03085602 0.16452223 0.03658603]\n"
     ]
    },
    {
     "data": {
      "image/png": "[encoded data removed]",
      "text/plain": [
       "<Figure size 720x360 with 1 Axes>"
      ]
     },
     "metadata": {
      "needs_background": "light"
     },
     "output_type": "display_data"
    }
   ],
   "source": [
    "feature_importances_rf = rf_grid_search.best_estimator_.steps[0][1].feature_importances_\n",
    "feature_names = ['Mean_' + str(n) if n < 6 else 'std_' + str(n-5) for n in range(12)]\n",
    "\n",
    "plt.figure(figsize=(10, 5))\n",
    "plt.bar(feature_names, feature_importances_rf)\n",
    "plt.ylabel('Importance')\n",
    "plt.xlabel('Feature')\n",
    "plt.tight_layout()\n",
    "plt.show()"
   ]
  },
  {
   "cell_type": "markdown",
   "metadata": {},
   "source": [
    "From the figure above, indeed we can see that the variability information provided by the standard deviation are more informative than the mean information (amplitudes).\n",
    "\n",
    "\n",
    "Below, the three classifiers fitted so far are compared in a bar plot"
   ]
  },
  {
   "cell_type": "code",
   "execution_count": 183,
   "metadata": {},
   "outputs": [
    {
     "data": {
      "image/png": "[encoded data removed]",
      "text/plain": [
       "<Figure size 432x288 with 1 Axes>"
      ]
     },
     "metadata": {
      "needs_background": "light"
     },
     "output_type": "display_data"
    }
   ],
   "source": [
    "plt.bar(['KNN', 'NaiveBayes', 'Random Forest'], [0.944547134935305, 0.8271719038817006, 0.9048059149722736] )\n",
    "plt.ylabel('Accuracy score')\n",
    "plt.xlabel('Classifiers')\n",
    "plt.title('Test accuracy')\n",
    "plt.show()"
   ]
  },
  {
   "cell_type": "markdown",
   "metadata": {},
   "source": [
    "Luckily, K-nearest neigbor, which is a relatively easy-to-train classifier produces the best result here. Obviously, complexity is not always better. However, Random forest is still useful here as it helps us to understand the interaction between the MFCC features and the gender through the features ranking. More optimizing can be performed using the RF features ranking socre to drop uninformative features.\n",
    "\n",
    "**With 94% accuracy from"
   ]
  },
  {
   "cell_type": "markdown",
   "metadata": {},
   "source": [
    "## Neural Networks\n"
   ]
  },
  {
   "cell_type": "markdown",
   "metadata": {},
   "source": [
    "#### - Artificial Neural Network"
   ]
  },
  {
   "cell_type": "code",
   "execution_count": 186,
   "metadata": {},
   "outputs": [],
   "source": [
    "import tensorflow as tf\n",
    "from keras.models import Sequential\n",
    "from keras.layers import Dense, Dropout\n",
    "from keras.utils import np_utils\n",
    "from keras.callbacks import Callback, EarlyStopping"
   ]
  },
  {
   "cell_type": "code",
   "execution_count": 216,
   "metadata": {},
   "outputs": [
    {
     "name": "stdout",
     "output_type": "stream",
     "text": [
      "Model: \"sequential_10\"\n",
      "_________________________________________________________________\n",
      "Layer (type)                 Output Shape              Param #   \n",
      "=================================================================\n",
      "dense_24 (Dense)             (None, 64)                832       \n",
      "_________________________________________________________________\n",
      "dropout_10 (Dropout)         (None, 64)                0         \n",
      "_________________________________________________________________\n",
      "dense_25 (Dense)             (None, 1)                 65        \n",
      "=================================================================\n",
      "Total params: 897\n",
      "Trainable params: 897\n",
      "Non-trainable params: 0\n",
      "_________________________________________________________________\n"
     ]
    }
   ],
   "source": [
    "def feed_forward_NN():\n",
    "    model = Sequential([\n",
    "              Dense(64, input_dim= X_train_scaled.shape[1], activation='relu'),\n",
    "              Dropout(.2),\n",
    "              Dense(1, activation = 'sigmoid')\n",
    "            ])\n",
    "    model.compile(optimizer='adam',\n",
    "              loss='binary_crossentropy',\n",
    "              metrics=['accuracy'])\n",
    "    return model\n",
    "\n",
    "model = feed_forward_NN()\n",
    "\n",
    "\n",
    "              \n",
    "model.summary()"
   ]
  },
  {
   "cell_type": "code",
   "execution_count": 217,
   "metadata": {},
   "outputs": [
    {
     "name": "stdout",
     "output_type": "stream",
     "text": [
      "Train on 1621 samples, validate on 541 samples\n",
      "Epoch 1/100\n",
      " - 0s - loss: 0.6079 - accuracy: 0.6878 - val_loss: 0.4851 - val_accuracy: 0.7985\n",
      "Epoch 2/100\n",
      " - 0s - loss: 0.4229 - accuracy: 0.8489 - val_loss: 0.3889 - val_accuracy: 0.8262\n",
      "Epoch 3/100\n",
      " - 0s - loss: 0.3521 - accuracy: 0.8649 - val_loss: 0.3443 - val_accuracy: 0.8466\n",
      "Epoch 4/100\n",
      " - 0s - loss: 0.3081 - accuracy: 0.8748 - val_loss: 0.3187 - val_accuracy: 0.8595\n",
      "Epoch 5/100\n",
      " - 0s - loss: 0.2828 - accuracy: 0.8865 - val_loss: 0.3004 - val_accuracy: 0.8651\n",
      "Epoch 6/100\n",
      " - 0s - loss: 0.2614 - accuracy: 0.8908 - val_loss: 0.2864 - val_accuracy: 0.8632\n",
      "Epoch 7/100\n",
      " - 0s - loss: 0.2485 - accuracy: 0.9038 - val_loss: 0.2756 - val_accuracy: 0.8651\n",
      "Epoch 8/100\n",
      " - 0s - loss: 0.2367 - accuracy: 0.9038 - val_loss: 0.2670 - val_accuracy: 0.8799\n",
      "Epoch 9/100\n",
      " - 0s - loss: 0.2301 - accuracy: 0.9044 - val_loss: 0.2597 - val_accuracy: 0.8854\n",
      "Epoch 10/100\n",
      " - 0s - loss: 0.2223 - accuracy: 0.9124 - val_loss: 0.2540 - val_accuracy: 0.8872\n",
      "Epoch 11/100\n",
      " - 0s - loss: 0.2132 - accuracy: 0.9161 - val_loss: 0.2484 - val_accuracy: 0.8854\n",
      "Epoch 12/100\n",
      " - 0s - loss: 0.2136 - accuracy: 0.9167 - val_loss: 0.2437 - val_accuracy: 0.8909\n",
      "Epoch 13/100\n",
      " - 0s - loss: 0.2033 - accuracy: 0.9217 - val_loss: 0.2395 - val_accuracy: 0.8946\n",
      "Epoch 14/100\n",
      " - 0s - loss: 0.1995 - accuracy: 0.9254 - val_loss: 0.2355 - val_accuracy: 0.8946\n",
      "Epoch 15/100\n",
      " - 0s - loss: 0.1946 - accuracy: 0.9254 - val_loss: 0.2316 - val_accuracy: 0.9002\n",
      "Epoch 16/100\n",
      " - 0s - loss: 0.1859 - accuracy: 0.9266 - val_loss: 0.2295 - val_accuracy: 0.9002\n",
      "Epoch 17/100\n",
      " - 0s - loss: 0.1880 - accuracy: 0.9247 - val_loss: 0.2262 - val_accuracy: 0.8965\n",
      "Epoch 18/100\n",
      " - 0s - loss: 0.1779 - accuracy: 0.9297 - val_loss: 0.2239 - val_accuracy: 0.9020\n",
      "Epoch 19/100\n",
      " - 0s - loss: 0.1708 - accuracy: 0.9383 - val_loss: 0.2200 - val_accuracy: 0.9039\n",
      "Epoch 20/100\n",
      " - 0s - loss: 0.1753 - accuracy: 0.9334 - val_loss: 0.2178 - val_accuracy: 0.9094\n",
      "Epoch 21/100\n",
      " - 0s - loss: 0.1758 - accuracy: 0.9334 - val_loss: 0.2162 - val_accuracy: 0.9076\n",
      "Epoch 22/100\n",
      " - 0s - loss: 0.1692 - accuracy: 0.9365 - val_loss: 0.2148 - val_accuracy: 0.9039\n",
      "Epoch 23/100\n",
      " - 0s - loss: 0.1628 - accuracy: 0.9389 - val_loss: 0.2121 - val_accuracy: 0.9076\n",
      "Epoch 24/100\n",
      " - 0s - loss: 0.1661 - accuracy: 0.9358 - val_loss: 0.2104 - val_accuracy: 0.9076\n",
      "Epoch 25/100\n",
      " - 0s - loss: 0.1670 - accuracy: 0.9309 - val_loss: 0.2092 - val_accuracy: 0.9076\n",
      "Epoch 26/100\n",
      " - 0s - loss: 0.1650 - accuracy: 0.9365 - val_loss: 0.2073 - val_accuracy: 0.9094\n",
      "Epoch 27/100\n",
      " - 0s - loss: 0.1569 - accuracy: 0.9451 - val_loss: 0.2056 - val_accuracy: 0.9076\n",
      "Epoch 28/100\n",
      " - 0s - loss: 0.1587 - accuracy: 0.9469 - val_loss: 0.2038 - val_accuracy: 0.9113\n",
      "Epoch 29/100\n",
      " - 0s - loss: 0.1525 - accuracy: 0.9432 - val_loss: 0.2022 - val_accuracy: 0.9131\n",
      "Epoch 30/100\n",
      " - 0s - loss: 0.1549 - accuracy: 0.9402 - val_loss: 0.2010 - val_accuracy: 0.9150\n",
      "Epoch 31/100\n",
      " - 0s - loss: 0.1428 - accuracy: 0.9402 - val_loss: 0.2007 - val_accuracy: 0.9113\n",
      "Epoch 32/100\n",
      " - 0s - loss: 0.1546 - accuracy: 0.9432 - val_loss: 0.1989 - val_accuracy: 0.9113\n",
      "Epoch 33/100\n",
      " - 0s - loss: 0.1453 - accuracy: 0.9469 - val_loss: 0.1968 - val_accuracy: 0.9131\n",
      "Epoch 34/100\n",
      " - 0s - loss: 0.1477 - accuracy: 0.9451 - val_loss: 0.1955 - val_accuracy: 0.9131\n",
      "Epoch 35/100\n",
      " - 0s - loss: 0.1458 - accuracy: 0.9414 - val_loss: 0.1944 - val_accuracy: 0.9168\n",
      "Epoch 36/100\n",
      " - 0s - loss: 0.1425 - accuracy: 0.9482 - val_loss: 0.1928 - val_accuracy: 0.9113\n",
      "Epoch 37/100\n",
      " - 0s - loss: 0.1402 - accuracy: 0.9476 - val_loss: 0.1906 - val_accuracy: 0.9168\n",
      "Epoch 38/100\n",
      " - 0s - loss: 0.1348 - accuracy: 0.9494 - val_loss: 0.1899 - val_accuracy: 0.9150\n",
      "Epoch 39/100\n",
      " - 0s - loss: 0.1368 - accuracy: 0.9506 - val_loss: 0.1905 - val_accuracy: 0.9131\n",
      "Epoch 40/100\n",
      " - 0s - loss: 0.1401 - accuracy: 0.9445 - val_loss: 0.1898 - val_accuracy: 0.9168\n",
      "Epoch 41/100\n",
      " - 0s - loss: 0.1358 - accuracy: 0.9476 - val_loss: 0.1877 - val_accuracy: 0.9150\n",
      "Epoch 42/100\n",
      " - 0s - loss: 0.1304 - accuracy: 0.9457 - val_loss: 0.1859 - val_accuracy: 0.9187\n",
      "Epoch 43/100\n",
      " - 0s - loss: 0.1338 - accuracy: 0.9543 - val_loss: 0.1858 - val_accuracy: 0.9205\n",
      "Epoch 44/100\n",
      " - 0s - loss: 0.1289 - accuracy: 0.9519 - val_loss: 0.1852 - val_accuracy: 0.9205\n",
      "Epoch 45/100\n",
      " - 0s - loss: 0.1342 - accuracy: 0.9445 - val_loss: 0.1840 - val_accuracy: 0.9187\n",
      "Epoch 46/100\n",
      " - 0s - loss: 0.1279 - accuracy: 0.9506 - val_loss: 0.1814 - val_accuracy: 0.9224\n",
      "Epoch 47/100\n",
      " - 0s - loss: 0.1251 - accuracy: 0.9581 - val_loss: 0.1828 - val_accuracy: 0.9205\n",
      "Epoch 48/100\n",
      " - 0s - loss: 0.1280 - accuracy: 0.9500 - val_loss: 0.1803 - val_accuracy: 0.9224\n",
      "Epoch 49/100\n",
      " - 0s - loss: 0.1298 - accuracy: 0.9513 - val_loss: 0.1783 - val_accuracy: 0.9224\n",
      "Epoch 50/100\n",
      " - 0s - loss: 0.1261 - accuracy: 0.9500 - val_loss: 0.1786 - val_accuracy: 0.9205\n",
      "Epoch 51/100\n",
      " - 0s - loss: 0.1267 - accuracy: 0.9469 - val_loss: 0.1774 - val_accuracy: 0.9224\n",
      "Epoch 52/100\n",
      " - 0s - loss: 0.1315 - accuracy: 0.9506 - val_loss: 0.1769 - val_accuracy: 0.9242\n",
      "Epoch 53/100\n",
      " - 0s - loss: 0.1246 - accuracy: 0.9543 - val_loss: 0.1755 - val_accuracy: 0.9261\n",
      "Epoch 54/100\n",
      " - 0s - loss: 0.1177 - accuracy: 0.9537 - val_loss: 0.1765 - val_accuracy: 0.9242\n",
      "Epoch 55/100\n",
      " - 0s - loss: 0.1267 - accuracy: 0.9525 - val_loss: 0.1760 - val_accuracy: 0.9261\n",
      "Epoch 56/100\n",
      " - 0s - loss: 0.1208 - accuracy: 0.9568 - val_loss: 0.1759 - val_accuracy: 0.9261\n",
      "Epoch 57/100\n",
      " - 0s - loss: 0.1181 - accuracy: 0.9531 - val_loss: 0.1741 - val_accuracy: 0.9279\n",
      "Epoch 58/100\n",
      " - 0s - loss: 0.1221 - accuracy: 0.9500 - val_loss: 0.1737 - val_accuracy: 0.9298\n",
      "Epoch 59/100\n",
      " - 0s - loss: 0.1219 - accuracy: 0.9519 - val_loss: 0.1722 - val_accuracy: 0.9316\n",
      "Epoch 60/100\n",
      " - 0s - loss: 0.1189 - accuracy: 0.9568 - val_loss: 0.1718 - val_accuracy: 0.9261\n",
      "Epoch 61/100\n",
      " - 0s - loss: 0.1176 - accuracy: 0.9543 - val_loss: 0.1737 - val_accuracy: 0.9298\n",
      "Epoch 62/100\n",
      " - 0s - loss: 0.1144 - accuracy: 0.9531 - val_loss: 0.1727 - val_accuracy: 0.9316\n",
      "Epoch 63/100\n",
      " - 0s - loss: 0.1165 - accuracy: 0.9568 - val_loss: 0.1714 - val_accuracy: 0.9316\n",
      "Epoch 64/100\n",
      " - 0s - loss: 0.1116 - accuracy: 0.9618 - val_loss: 0.1722 - val_accuracy: 0.9261\n",
      "Epoch 65/100\n",
      " - 0s - loss: 0.1192 - accuracy: 0.9525 - val_loss: 0.1714 - val_accuracy: 0.9298\n",
      "Epoch 66/100\n",
      " - 0s - loss: 0.1162 - accuracy: 0.9537 - val_loss: 0.1710 - val_accuracy: 0.9279\n",
      "Epoch 67/100\n",
      " - 0s - loss: 0.1163 - accuracy: 0.9531 - val_loss: 0.1690 - val_accuracy: 0.9316\n",
      "Epoch 68/100\n",
      " - 0s - loss: 0.1168 - accuracy: 0.9543 - val_loss: 0.1670 - val_accuracy: 0.9298\n",
      "Epoch 69/100\n",
      " - 0s - loss: 0.1093 - accuracy: 0.9568 - val_loss: 0.1686 - val_accuracy: 0.9279\n",
      "Epoch 70/100\n",
      " - 0s - loss: 0.1112 - accuracy: 0.9537 - val_loss: 0.1686 - val_accuracy: 0.9316\n",
      "Epoch 71/100\n",
      " - 0s - loss: 0.1155 - accuracy: 0.9543 - val_loss: 0.1665 - val_accuracy: 0.9316\n",
      "Epoch 72/100\n",
      " - 0s - loss: 0.1128 - accuracy: 0.9581 - val_loss: 0.1658 - val_accuracy: 0.9353\n",
      "Epoch 73/100\n",
      " - 0s - loss: 0.1122 - accuracy: 0.9587 - val_loss: 0.1664 - val_accuracy: 0.9316\n",
      "Epoch 74/100\n",
      " - 0s - loss: 0.1132 - accuracy: 0.9587 - val_loss: 0.1672 - val_accuracy: 0.9298\n",
      "Epoch 75/100\n",
      " - 0s - loss: 0.1097 - accuracy: 0.9562 - val_loss: 0.1657 - val_accuracy: 0.9353\n",
      "Epoch 76/100\n",
      " - 0s - loss: 0.1047 - accuracy: 0.9624 - val_loss: 0.1652 - val_accuracy: 0.9335\n",
      "Epoch 77/100\n",
      " - 0s - loss: 0.1148 - accuracy: 0.9574 - val_loss: 0.1659 - val_accuracy: 0.9298\n",
      "Epoch 78/100\n",
      " - 0s - loss: 0.1122 - accuracy: 0.9531 - val_loss: 0.1666 - val_accuracy: 0.9316\n",
      "Epoch 79/100\n",
      " - 0s - loss: 0.1079 - accuracy: 0.9587 - val_loss: 0.1640 - val_accuracy: 0.9353\n",
      "Epoch 80/100\n",
      " - 0s - loss: 0.1071 - accuracy: 0.9581 - val_loss: 0.1635 - val_accuracy: 0.9353\n",
      "Epoch 81/100\n",
      " - 0s - loss: 0.0977 - accuracy: 0.9692 - val_loss: 0.1636 - val_accuracy: 0.9353\n",
      "Epoch 82/100\n",
      " - 0s - loss: 0.1110 - accuracy: 0.9587 - val_loss: 0.1627 - val_accuracy: 0.9335\n",
      "Epoch 83/100\n",
      " - 0s - loss: 0.1002 - accuracy: 0.9611 - val_loss: 0.1641 - val_accuracy: 0.9316\n",
      "Epoch 84/100\n",
      " - 0s - loss: 0.1005 - accuracy: 0.9648 - val_loss: 0.1646 - val_accuracy: 0.9335\n",
      "Epoch 85/100\n",
      " - 0s - loss: 0.1101 - accuracy: 0.9550 - val_loss: 0.1642 - val_accuracy: 0.9353\n",
      "Epoch 86/100\n",
      " - 0s - loss: 0.1036 - accuracy: 0.9611 - val_loss: 0.1604 - val_accuracy: 0.9353\n"
     ]
    },
    {
     "name": "stdout",
     "output_type": "stream",
     "text": [
      "Epoch 87/100\n",
      " - 0s - loss: 0.1020 - accuracy: 0.9618 - val_loss: 0.1616 - val_accuracy: 0.9353\n",
      "Epoch 88/100\n",
      " - 0s - loss: 0.1028 - accuracy: 0.9593 - val_loss: 0.1605 - val_accuracy: 0.9335\n",
      "Epoch 89/100\n",
      " - 0s - loss: 0.0970 - accuracy: 0.9661 - val_loss: 0.1589 - val_accuracy: 0.9353\n",
      "Epoch 90/100\n",
      " - 0s - loss: 0.0987 - accuracy: 0.9642 - val_loss: 0.1586 - val_accuracy: 0.9335\n",
      "Epoch 91/100\n",
      " - 0s - loss: 0.1050 - accuracy: 0.9581 - val_loss: 0.1578 - val_accuracy: 0.9335\n",
      "Epoch 92/100\n",
      " - 0s - loss: 0.1083 - accuracy: 0.9556 - val_loss: 0.1607 - val_accuracy: 0.9335\n",
      "Epoch 93/100\n",
      " - 0s - loss: 0.1033 - accuracy: 0.9618 - val_loss: 0.1603 - val_accuracy: 0.9353\n",
      "Epoch 94/100\n",
      " - 0s - loss: 0.0925 - accuracy: 0.9624 - val_loss: 0.1585 - val_accuracy: 0.9316\n",
      "Epoch 95/100\n",
      " - 0s - loss: 0.0959 - accuracy: 0.9624 - val_loss: 0.1589 - val_accuracy: 0.9353\n",
      "Epoch 96/100\n",
      " - 0s - loss: 0.1104 - accuracy: 0.9611 - val_loss: 0.1561 - val_accuracy: 0.9353\n",
      "Epoch 97/100\n",
      " - 0s - loss: 0.1014 - accuracy: 0.9605 - val_loss: 0.1576 - val_accuracy: 0.9390\n",
      "Epoch 98/100\n",
      " - 0s - loss: 0.0945 - accuracy: 0.9661 - val_loss: 0.1573 - val_accuracy: 0.9390\n",
      "Epoch 99/100\n",
      " - 0s - loss: 0.0953 - accuracy: 0.9636 - val_loss: 0.1560 - val_accuracy: 0.9335\n",
      "Epoch 100/100\n",
      " - 0s - loss: 0.0945 - accuracy: 0.9685 - val_loss: 0.1569 - val_accuracy: 0.9372\n"
     ]
    }
   ],
   "source": [
    "history = model.fit(X_train_scaled, y_train,\n",
    "          batch_size= 32, validation_data= [X_val_scaled, y_val],\n",
    "          epochs=100, verbose=2)"
   ]
  },
  {
   "cell_type": "code",
   "execution_count": 222,
   "metadata": {},
   "outputs": [
    {
     "name": "stdout",
     "output_type": "stream",
     "text": [
      "The accuracy of RF on the test data (MFCC mean + std) is: \n",
      " 0.9371534195933456\n",
      "=======================================================================================\n",
      "Classification Report for Random Forest: \n",
      "               precision    recall  f1-score   support\n",
      "\n",
      "           0       0.93      0.95      0.94       266\n",
      "           1       0.95      0.93      0.94       275\n",
      "\n",
      "    accuracy                           0.94       541\n",
      "   macro avg       0.94      0.94      0.94       541\n",
      "weighted avg       0.94      0.94      0.94       541\n",
      "\n"
     ]
    }
   ],
   "source": [
    "y_pred_feed_forward = model.predict_classes(X_test_scaled)\n",
    "test_score_feed_forward = accuracy_score(y_test, y_pred_feed_forward)\n",
    "print(f'The accuracy of RF on the test data (MFCC mean + std) is: \\n {test_score_feed_forward}')\n",
    "print('=======================================================================================')\n",
    "print('Classification Report for Random Forest: \\n',\n",
    "      classification_report(y_test, y_pred_feed_forward))"
   ]
  },
  {
   "cell_type": "code",
   "execution_count": 232,
   "metadata": {},
   "outputs": [
    {
     "data": {
      "text/plain": [
       "<function matplotlib.pyplot.show(*args, **kw)>"
      ]
     },
     "execution_count": 232,
     "metadata": {},
     "output_type": "execute_result"
    },
    {
     "data": {
      "image/png": "[encoded data removed]",
      "text/plain": [
       "<Figure size 720x360 with 2 Axes>"
      ]
     },
     "metadata": {
      "needs_background": "light"
     },
     "output_type": "display_data"
    }
   ],
   "source": [
    "fig, [ax1, ax2] = plt.subplots(nrows= 1, ncols= 2, figsize = (10, 5))\n",
    "ax1.plot(history.history['accuracy'])\n",
    "ax1.plot(history.history['val_accuracy'])\n",
    "ax1.set_title('model accuracy')\n",
    "ax1.set_xlabel('Epoch')\n",
    "ax1.set_ylabel('Accuracy')\n",
    "ax2.plot(history.history['loss'])\n",
    "ax2.plot(history.history['val_loss'])\n",
    "ax2.set_title('Model loss')\n",
    "ax2.set_xlabel('Epoch')\n",
    "ax2.set_ylabel('Loss')\n",
    "plt.tight_layout()\n",
    "plt.show"
   ]
  },
  {
   "cell_type": "code",
   "execution_count": null,
   "metadata": {},
   "outputs": [],
   "source": []
  }
 ],
 "metadata": {
  "kernelspec": {
   "display_name": "Python 3",
   "language": "python",
   "name": "python3"
  },
  "language_info": {
   "codemirror_mode": {
    "name": "ipython",
    "version": 3
   },
   "file_extension": ".py",
   "mimetype": "text/x-python",
   "name": "python",
   "nbconvert_exporter": "python",
   "pygments_lexer": "ipython3",
   "version": "3.6.9"
  }
 },
 "nbformat": 4,
 "nbformat_minor": 4
}
